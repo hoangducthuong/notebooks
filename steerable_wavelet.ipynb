{
 "cells": [
  {
   "cell_type": "markdown",
   "metadata": {},
   "source": [
    "# Steerable wavelets"
   ]
  },
  {
   "cell_type": "markdown",
   "metadata": {},
   "source": [
    "This notebook is an attemp to create a sterrable complex wavelet similar to the one described by [Karasaridis & Simoncelli (1996)](https://www.computer.org/csdl/proceedings/icassp/1996/3192/04/00547763.pdf) and [Portilla & Simoncelli (2000)](https://link.springer.com/article/10.1023/A:1026553619983). This class of continuous wavelets, directly constructed in the Fourier space, allows us a better reconstruction of the signal.\n",
    "\n",
    "However, from my experience, it has a reduced number of possible scales for the decomposition compared to the Morlet wavelet. It is not sure that this wavelet would have a real advantage for the segmentation method."
   ]
  },
  {
   "cell_type": "markdown",
   "metadata": {},
   "source": [
    "### One dimensional construction"
   ]
  },
  {
   "cell_type": "code",
   "execution_count": 4,
   "metadata": {},
   "outputs": [
    {
     "name": "stdout",
     "output_type": "stream",
     "text": [
      "Populating the interactive namespace from numpy and matplotlib\n"
     ]
    }
   ],
   "source": [
    "%pylab inline"
   ]
  },
  {
   "cell_type": "markdown",
   "metadata": {},
   "source": [
    "We first split the Fourier with two filters, a low-pass filter, which corresponds to the usual \"Scaling function\" of a wavelet set, and a high-pass filter."
   ]
  },
  {
   "cell_type": "code",
   "execution_count": 13,
   "metadata": {},
   "outputs": [
    {
     "data": {
      "text/plain": [
       "<matplotlib.legend.Legend at 0x112912c90>"
      ]
     },
     "execution_count": 13,
     "metadata": {},
     "output_type": "execute_result"
    },
    {
     "data": {
      "image/png": "[encoded data removed]",
      "text/plain": [
       "<matplotlib.figure.Figure at 0x1100d4890>"
      ]
     },
     "metadata": {},
     "output_type": "display_data"
    }
   ],
   "source": [
    "#Size of the array\n",
    "na = 512\n",
    "max = np.pi/2.\n",
    "\n",
    "rt = np.arange(na)\n",
    "rt = (rt-np.fix(na/2.))\n",
    "r = (rt*max)/(na/2.)\n",
    "\n",
    "#First division (1D) Low- and high-pass filters\n",
    "#-----------------------------------------\n",
    "\n",
    "H0 = np.zeros(na)\n",
    "L0 = np.zeros(na)\n",
    "\n",
    "#Condition A\n",
    "#-------------------\n",
    "ca = where((r > np.pi/4) & (r < np.pi/2))\n",
    "\n",
    "H0[ca] = np.cos(np.pi/2. * np.log(2. * r[ca] / np.pi)/np.log(2.))\n",
    "L0[ca] = 2.*np.cos(np.pi/2. * np.log(4. * r[ca] / np.pi)/np.log(2.))\n",
    "\n",
    "#Condition B\n",
    "#-------------------\n",
    "cb = where(r <= np.pi/4)\n",
    "\n",
    "H0[cb] = 0.\n",
    "L0[cb] = 2.\n",
    "\n",
    "#Condition C\n",
    "#-------------------\n",
    "cc=where(r >= np.pi/2)\n",
    "\n",
    "H0[cc] = 1.\n",
    "L0[cc] = 0.\n",
    "\n",
    "figure(figsize(9,5))\n",
    "plot(rt,H0, label=\"High-pass\")\n",
    "plot(rt, L0/2., label=\"Low-pass\")\n",
    "plt.xscale('log')\n",
    "plt.xlim([1e0,na/2.])\n",
    "plt.legend()"
   ]
  },
  {
   "cell_type": "markdown",
   "metadata": {},
   "source": [
    "Now, we can divide the high-pass filter to create *sub*-bandpass filters"
   ]
  },
  {
   "cell_type": "code",
   "execution_count": null,
   "metadata": {},
   "outputs": [],
   "source": [
    "#Number of iterations\n",
    "Nite = 5\n",
    "\n",
    "#Iterative division (1D)\n",
    "#-----------------------------------------\n",
    "Hi=np.zeros(Nite,na)\n",
    "Li=np.zeros(Nite,na)\n",
    "\n",
    "for ite=0 in range(Nite):\n",
    "\n",
    "    nwrange=np.where(Li[ite-1,*] == 2.)\n",
    "\n",
    "    r = (rt*max)/rt[nwrange[nwcount-1]]\n",
    "\n",
    ";Condition A\n",
    ";-------------------\n",
    "\n",
    "ca=where(r gt !pi/4 and r lt !pi/2)\n",
    "\n",
    "Hi[ite,ca] = cos( !pi/2. * alog(2. * r[ca] / !pi)/alog(2.) )\n",
    "\n",
    "Li[ite,ca] = 2.*cos( !pi/2. * alog(4. * r[ca] / !pi)/alog(2.) )\n",
    "\n",
    ";Condition B\n",
    ";-------------------\n",
    "\n",
    "cb=where(r le !pi/4)\n",
    "\n",
    "Hi[ite,cb] = 0.\n",
    "\n",
    "Li[ite,cb] = 2.\n",
    "\n",
    ";Condition C\n",
    ";-------------------\n",
    "\n",
    "cc=where(r ge !pi/2)\n",
    "\n",
    "Hi[ite,cc] = 1.\n",
    "\n",
    "Li[ite,cc] = 0.\n",
    "\n",
    ";Negative frequencies\n",
    ";-------------------\n",
    "\n",
    ";pos=where(rt gt 0.,cpos)\n",
    ";neg=where(rt lt 0.,cneg)\n",
    "\n",
    ";Hi[ite,neg[1:cneg-1]]=reverse(Hi[ite,pos])\n",
    ";Li[ite,neg[1:cneg-1]]=reverse(Li[ite,pos])\n",
    "\n",
    ";Plot (1D)\n",
    ";-----------------------------------------\n",
    "load_color_vp\n",
    "\n",
    "wset,0\n",
    "\n",
    "oplot,rt,Hi[ite,*],color=4\n",
    "oplot,rt,Li[ite,*]/2.\n",
    "\n",
    ";wset,1\n",
    "\n",
    ";int = H0^2 + (L0/2.)^2.*((L1/2.)^2.+H1^2.)\n",
    "\n",
    ";plot,rt,int,xrange=[-na/2,na/2],yrange=[0,1.5],xstyle=1\n",
    ";oplot,[!pi/4.,!pi/4.],[0,2.5],linestyle=2\n",
    ";oplot,[!pi/2.,!pi/2.],[0,2.5],linestyle=2\n",
    "\n",
    "endfor"
   ]
  }
 ],
 "metadata": {
  "kernelspec": {
   "display_name": "Python 2",
   "language": "python",
   "name": "python2"
  },
  "language_info": {
   "codemirror_mode": {
    "name": "ipython",
    "version": 2
   },
   "file_extension": ".py",
   "mimetype": "text/x-python",
   "name": "python",
   "nbconvert_exporter": "python",
   "pygments_lexer": "ipython2",
   "version": "2.7.14"
  }
 },
 "nbformat": 4,
 "nbformat_minor": 2
}
