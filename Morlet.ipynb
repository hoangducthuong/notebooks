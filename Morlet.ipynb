{
 "cells": [
  {
   "cell_type": "markdown",
   "metadata": {},
   "source": [
    "# Morlet Wavelet"
   ]
  },
  {
   "cell_type": "markdown",
   "metadata": {},
   "source": [
    "Compare the wavelet shape between python and IDL"
   ]
  },
  {
   "cell_type": "code",
   "execution_count": 1,
   "metadata": {},
   "outputs": [
    {
     "name": "stdout",
     "output_type": "stream",
     "text": [
      "Populating the interactive namespace from numpy and matplotlib\n"
     ]
    },
    {
     "data": {
      "text/html": [
       "\n",
       "    <div class=\"bk-root\">\n",
       "        <a href=\"https://bokeh.pydata.org\" target=\"_blank\" class=\"bk-logo bk-logo-small bk-logo-notebook\"></a>\n",
       "        <span id=\"085fd3bb-7217-476b-afec-519a67914115\">Loading BokehJS ...</span>\n",
       "    </div>"
      ]
     },
     "metadata": {},
     "output_type": "display_data"
    },
    {
     "data": {
      "application/javascript": [
       "\n",
       "(function(root) {\n",
       "  function now() {\n",
       "    return new Date();\n",
       "  }\n",
       "\n",
       "  var force = true;\n",
       "\n",
       "  if (typeof (root._bokeh_onload_callbacks) === \"undefined\" || force === true) {\n",
       "    root._bokeh_onload_callbacks = [];\n",
       "    root._bokeh_is_loading = undefined;\n",
       "  }\n",
       "\n",
       "  var JS_MIME_TYPE = 'application/javascript';\n",
       "  var HTML_MIME_TYPE = 'text/html';\n",
       "  var EXEC_MIME_TYPE = 'application/vnd.bokehjs_exec.v0+json';\n",
       "  var CLASS_NAME = 'output_bokeh rendered_html';\n",
       "\n",
       "  /**\n",
       "   * Render data to the DOM node\n",
       "   */\n",
       "  function render(props, node) {\n",
       "    var script = document.createElement(\"script\");\n",
       "    node.appendChild(script);\n",
       "  }\n",
       "\n",
       "  /**\n",
       "   * Handle when an output is cleared or removed\n",
       "   */\n",
       "  function handleClearOutput(event, handle) {\n",
       "    var cell = handle.cell;\n",
       "\n",
       "    var id = cell.output_area._bokeh_element_id;\n",
       "    var server_id = cell.output_area._bokeh_server_id;\n",
       "    // Clean up Bokeh references\n",
       "    if (id !== undefined) {\n",
       "      Bokeh.index[id].model.document.clear();\n",
       "      delete Bokeh.index[id];\n",
       "    }\n",
       "\n",
       "    if (server_id !== undefined) {\n",
       "      // Clean up Bokeh references\n",
       "      var cmd = \"from bokeh.io.state import curstate; print(curstate().uuid_to_server['\" + server_id + \"'].get_sessions()[0].document.roots[0]._id)\";\n",
       "      cell.notebook.kernel.execute(cmd, {\n",
       "        iopub: {\n",
       "          output: function(msg) {\n",
       "            var element_id = msg.content.text.trim();\n",
       "            Bokeh.index[element_id].model.document.clear();\n",
       "            delete Bokeh.index[element_id];\n",
       "          }\n",
       "        }\n",
       "      });\n",
       "      // Destroy server and session\n",
       "      var cmd = \"import bokeh.io.notebook as ion; ion.destroy_server('\" + server_id + \"')\";\n",
       "      cell.notebook.kernel.execute(cmd);\n",
       "    }\n",
       "  }\n",
       "\n",
       "  /**\n",
       "   * Handle when a new output is added\n",
       "   */\n",
       "  function handleAddOutput(event, handle) {\n",
       "    var output_area = handle.output_area;\n",
       "    var output = handle.output;\n",
       "\n",
       "    // limit handleAddOutput to display_data with EXEC_MIME_TYPE content only\n",
       "    if ((output.output_type != \"display_data\") || (!output.data.hasOwnProperty(EXEC_MIME_TYPE))) {\n",
       "      return\n",
       "    }\n",
       "\n",
       "    var toinsert = output_area.element.find(\".\" + CLASS_NAME.split(' ')[0]);\n",
       "\n",
       "    if (output.metadata[EXEC_MIME_TYPE][\"id\"] !== undefined) {\n",
       "      toinsert[0].firstChild.textContent = output.data[JS_MIME_TYPE];\n",
       "      // store reference to embed id on output_area\n",
       "      output_area._bokeh_element_id = output.metadata[EXEC_MIME_TYPE][\"id\"];\n",
       "    }\n",
       "    if (output.metadata[EXEC_MIME_TYPE][\"server_id\"] !== undefined) {\n",
       "      var bk_div = document.createElement(\"div\");\n",
       "      bk_div.innerHTML = output.data[HTML_MIME_TYPE];\n",
       "      var script_attrs = bk_div.children[0].attributes;\n",
       "      for (var i = 0; i < script_attrs.length; i++) {\n",
       "        toinsert[0].firstChild.setAttribute(script_attrs[i].name, script_attrs[i].value);\n",
       "      }\n",
       "      // store reference to server id on output_area\n",
       "      output_area._bokeh_server_id = output.metadata[EXEC_MIME_TYPE][\"server_id\"];\n",
       "    }\n",
       "  }\n",
       "\n",
       "  function register_renderer(events, OutputArea) {\n",
       "\n",
       "    function append_mime(data, metadata, element) {\n",
       "      // create a DOM node to render to\n",
       "      var toinsert = this.create_output_subarea(\n",
       "        metadata,\n",
       "        CLASS_NAME,\n",
       "        EXEC_MIME_TYPE\n",
       "      );\n",
       "      this.keyboard_manager.register_events(toinsert);\n",
       "      // Render to node\n",
       "      var props = {data: data, metadata: metadata[EXEC_MIME_TYPE]};\n",
       "      render(props, toinsert[0]);\n",
       "      element.append(toinsert);\n",
       "      return toinsert\n",
       "    }\n",
       "\n",
       "    /* Handle when an output is cleared or removed */\n",
       "    events.on('clear_output.CodeCell', handleClearOutput);\n",
       "    events.on('delete.Cell', handleClearOutput);\n",
       "\n",
       "    /* Handle when a new output is added */\n",
       "    events.on('output_added.OutputArea', handleAddOutput);\n",
       "\n",
       "    /**\n",
       "     * Register the mime type and append_mime function with output_area\n",
       "     */\n",
       "    OutputArea.prototype.register_mime_type(EXEC_MIME_TYPE, append_mime, {\n",
       "      /* Is output safe? */\n",
       "      safe: true,\n",
       "      /* Index of renderer in `output_area.display_order` */\n",
       "      index: 0\n",
       "    });\n",
       "  }\n",
       "\n",
       "  // register the mime type if in Jupyter Notebook environment and previously unregistered\n",
       "  if (root.Jupyter !== undefined) {\n",
       "    var events = require('base/js/events');\n",
       "    var OutputArea = require('notebook/js/outputarea').OutputArea;\n",
       "\n",
       "    if (OutputArea.prototype.mime_types().indexOf(EXEC_MIME_TYPE) == -1) {\n",
       "      register_renderer(events, OutputArea);\n",
       "    }\n",
       "  }\n",
       "\n",
       "  \n",
       "  if (typeof (root._bokeh_timeout) === \"undefined\" || force === true) {\n",
       "    root._bokeh_timeout = Date.now() + 5000;\n",
       "    root._bokeh_failed_load = false;\n",
       "  }\n",
       "\n",
       "  var NB_LOAD_WARNING = {'data': {'text/html':\n",
       "     \"<div style='background-color: #fdd'>\\n\"+\n",
       "     \"<p>\\n\"+\n",
       "     \"BokehJS does not appear to have successfully loaded. If loading BokehJS from CDN, this \\n\"+\n",
       "     \"may be due to a slow or bad network connection. Possible fixes:\\n\"+\n",
       "     \"</p>\\n\"+\n",
       "     \"<ul>\\n\"+\n",
       "     \"<li>re-rerun `output_notebook()` to attempt to load from CDN again, or</li>\\n\"+\n",
       "     \"<li>use INLINE resources instead, as so:</li>\\n\"+\n",
       "     \"</ul>\\n\"+\n",
       "     \"<code>\\n\"+\n",
       "     \"from bokeh.resources import INLINE\\n\"+\n",
       "     \"output_notebook(resources=INLINE)\\n\"+\n",
       "     \"</code>\\n\"+\n",
       "     \"</div>\"}};\n",
       "\n",
       "  function display_loaded() {\n",
       "    var el = document.getElementById(\"085fd3bb-7217-476b-afec-519a67914115\");\n",
       "    if (el != null) {\n",
       "      el.textContent = \"BokehJS is loading...\";\n",
       "    }\n",
       "    if (root.Bokeh !== undefined) {\n",
       "      if (el != null) {\n",
       "        el.textContent = \"BokehJS \" + root.Bokeh.version + \" successfully loaded.\";\n",
       "      }\n",
       "    } else if (Date.now() < root._bokeh_timeout) {\n",
       "      setTimeout(display_loaded, 100)\n",
       "    }\n",
       "  }\n",
       "\n",
       "\n",
       "  function run_callbacks() {\n",
       "    try {\n",
       "      root._bokeh_onload_callbacks.forEach(function(callback) { callback() });\n",
       "    }\n",
       "    finally {\n",
       "      delete root._bokeh_onload_callbacks\n",
       "    }\n",
       "    console.info(\"Bokeh: all callbacks have finished\");\n",
       "  }\n",
       "\n",
       "  function load_libs(js_urls, callback) {\n",
       "    root._bokeh_onload_callbacks.push(callback);\n",
       "    if (root._bokeh_is_loading > 0) {\n",
       "      console.log(\"Bokeh: BokehJS is being loaded, scheduling callback at\", now());\n",
       "      return null;\n",
       "    }\n",
       "    if (js_urls == null || js_urls.length === 0) {\n",
       "      run_callbacks();\n",
       "      return null;\n",
       "    }\n",
       "    console.log(\"Bokeh: BokehJS not loaded, scheduling load and callback at\", now());\n",
       "    root._bokeh_is_loading = js_urls.length;\n",
       "    for (var i = 0; i < js_urls.length; i++) {\n",
       "      var url = js_urls[i];\n",
       "      var s = document.createElement('script');\n",
       "      s.src = url;\n",
       "      s.async = false;\n",
       "      s.onreadystatechange = s.onload = function() {\n",
       "        root._bokeh_is_loading--;\n",
       "        if (root._bokeh_is_loading === 0) {\n",
       "          console.log(\"Bokeh: all BokehJS libraries loaded\");\n",
       "          run_callbacks()\n",
       "        }\n",
       "      };\n",
       "      s.onerror = function() {\n",
       "        console.warn(\"failed to load library \" + url);\n",
       "      };\n",
       "      console.log(\"Bokeh: injecting script tag for BokehJS library: \", url);\n",
       "      document.getElementsByTagName(\"head\")[0].appendChild(s);\n",
       "    }\n",
       "  };var element = document.getElementById(\"085fd3bb-7217-476b-afec-519a67914115\");\n",
       "  if (element == null) {\n",
       "    console.log(\"Bokeh: ERROR: autoload.js configured with elementid '085fd3bb-7217-476b-afec-519a67914115' but no matching script tag was found. \")\n",
       "    return false;\n",
       "  }\n",
       "\n",
       "  var js_urls = [\"https://cdn.pydata.org/bokeh/release/bokeh-0.12.13.min.js\", \"https://cdn.pydata.org/bokeh/release/bokeh-widgets-0.12.13.min.js\", \"https://cdn.pydata.org/bokeh/release/bokeh-tables-0.12.13.min.js\", \"https://cdn.pydata.org/bokeh/release/bokeh-gl-0.12.13.min.js\"];\n",
       "\n",
       "  var inline_js = [\n",
       "    function(Bokeh) {\n",
       "      Bokeh.set_log_level(\"info\");\n",
       "    },\n",
       "    \n",
       "    function(Bokeh) {\n",
       "      \n",
       "    },\n",
       "    function(Bokeh) {\n",
       "      console.log(\"Bokeh: injecting CSS: https://cdn.pydata.org/bokeh/release/bokeh-0.12.13.min.css\");\n",
       "      Bokeh.embed.inject_css(\"https://cdn.pydata.org/bokeh/release/bokeh-0.12.13.min.css\");\n",
       "      console.log(\"Bokeh: injecting CSS: https://cdn.pydata.org/bokeh/release/bokeh-widgets-0.12.13.min.css\");\n",
       "      Bokeh.embed.inject_css(\"https://cdn.pydata.org/bokeh/release/bokeh-widgets-0.12.13.min.css\");\n",
       "      console.log(\"Bokeh: injecting CSS: https://cdn.pydata.org/bokeh/release/bokeh-tables-0.12.13.min.css\");\n",
       "      Bokeh.embed.inject_css(\"https://cdn.pydata.org/bokeh/release/bokeh-tables-0.12.13.min.css\");\n",
       "    }\n",
       "  ];\n",
       "\n",
       "  function run_inline_js() {\n",
       "    \n",
       "    if ((root.Bokeh !== undefined) || (force === true)) {\n",
       "      for (var i = 0; i < inline_js.length; i++) {\n",
       "        inline_js[i].call(root, root.Bokeh);\n",
       "      }if (force === true) {\n",
       "        display_loaded();\n",
       "      }} else if (Date.now() < root._bokeh_timeout) {\n",
       "      setTimeout(run_inline_js, 100);\n",
       "    } else if (!root._bokeh_failed_load) {\n",
       "      console.log(\"Bokeh: BokehJS failed to load within specified timeout.\");\n",
       "      root._bokeh_failed_load = true;\n",
       "    } else if (force !== true) {\n",
       "      var cell = $(document.getElementById(\"085fd3bb-7217-476b-afec-519a67914115\")).parents('.cell').data().cell;\n",
       "      cell.output_area.append_execute_result(NB_LOAD_WARNING)\n",
       "    }\n",
       "\n",
       "  }\n",
       "\n",
       "  if (root._bokeh_is_loading === 0) {\n",
       "    console.log(\"Bokeh: BokehJS loaded, going straight to plotting\");\n",
       "    run_inline_js();\n",
       "  } else {\n",
       "    load_libs(js_urls, function() {\n",
       "      console.log(\"Bokeh: BokehJS plotting callback run at\", now());\n",
       "      run_inline_js();\n",
       "    });\n",
       "  }\n",
       "}(window));"
      ],
      "application/vnd.bokehjs_load.v0+json": "\n(function(root) {\n  function now() {\n    return new Date();\n  }\n\n  var force = true;\n\n  if (typeof (root._bokeh_onload_callbacks) === \"undefined\" || force === true) {\n    root._bokeh_onload_callbacks = [];\n    root._bokeh_is_loading = undefined;\n  }\n\n  \n\n  \n  if (typeof (root._bokeh_timeout) === \"undefined\" || force === true) {\n    root._bokeh_timeout = Date.now() + 5000;\n    root._bokeh_failed_load = false;\n  }\n\n  var NB_LOAD_WARNING = {'data': {'text/html':\n     \"<div style='background-color: #fdd'>\\n\"+\n     \"<p>\\n\"+\n     \"BokehJS does not appear to have successfully loaded. If loading BokehJS from CDN, this \\n\"+\n     \"may be due to a slow or bad network connection. Possible fixes:\\n\"+\n     \"</p>\\n\"+\n     \"<ul>\\n\"+\n     \"<li>re-rerun `output_notebook()` to attempt to load from CDN again, or</li>\\n\"+\n     \"<li>use INLINE resources instead, as so:</li>\\n\"+\n     \"</ul>\\n\"+\n     \"<code>\\n\"+\n     \"from bokeh.resources import INLINE\\n\"+\n     \"output_notebook(resources=INLINE)\\n\"+\n     \"</code>\\n\"+\n     \"</div>\"}};\n\n  function display_loaded() {\n    var el = document.getElementById(\"085fd3bb-7217-476b-afec-519a67914115\");\n    if (el != null) {\n      el.textContent = \"BokehJS is loading...\";\n    }\n    if (root.Bokeh !== undefined) {\n      if (el != null) {\n        el.textContent = \"BokehJS \" + root.Bokeh.version + \" successfully loaded.\";\n      }\n    } else if (Date.now() < root._bokeh_timeout) {\n      setTimeout(display_loaded, 100)\n    }\n  }\n\n\n  function run_callbacks() {\n    try {\n      root._bokeh_onload_callbacks.forEach(function(callback) { callback() });\n    }\n    finally {\n      delete root._bokeh_onload_callbacks\n    }\n    console.info(\"Bokeh: all callbacks have finished\");\n  }\n\n  function load_libs(js_urls, callback) {\n    root._bokeh_onload_callbacks.push(callback);\n    if (root._bokeh_is_loading > 0) {\n      console.log(\"Bokeh: BokehJS is being loaded, scheduling callback at\", now());\n      return null;\n    }\n    if (js_urls == null || js_urls.length === 0) {\n      run_callbacks();\n      return null;\n    }\n    console.log(\"Bokeh: BokehJS not loaded, scheduling load and callback at\", now());\n    root._bokeh_is_loading = js_urls.length;\n    for (var i = 0; i < js_urls.length; i++) {\n      var url = js_urls[i];\n      var s = document.createElement('script');\n      s.src = url;\n      s.async = false;\n      s.onreadystatechange = s.onload = function() {\n        root._bokeh_is_loading--;\n        if (root._bokeh_is_loading === 0) {\n          console.log(\"Bokeh: all BokehJS libraries loaded\");\n          run_callbacks()\n        }\n      };\n      s.onerror = function() {\n        console.warn(\"failed to load library \" + url);\n      };\n      console.log(\"Bokeh: injecting script tag for BokehJS library: \", url);\n      document.getElementsByTagName(\"head\")[0].appendChild(s);\n    }\n  };var element = document.getElementById(\"085fd3bb-7217-476b-afec-519a67914115\");\n  if (element == null) {\n    console.log(\"Bokeh: ERROR: autoload.js configured with elementid '085fd3bb-7217-476b-afec-519a67914115' but no matching script tag was found. \")\n    return false;\n  }\n\n  var js_urls = [\"https://cdn.pydata.org/bokeh/release/bokeh-0.12.13.min.js\", \"https://cdn.pydata.org/bokeh/release/bokeh-widgets-0.12.13.min.js\", \"https://cdn.pydata.org/bokeh/release/bokeh-tables-0.12.13.min.js\", \"https://cdn.pydata.org/bokeh/release/bokeh-gl-0.12.13.min.js\"];\n\n  var inline_js = [\n    function(Bokeh) {\n      Bokeh.set_log_level(\"info\");\n    },\n    \n    function(Bokeh) {\n      \n    },\n    function(Bokeh) {\n      console.log(\"Bokeh: injecting CSS: https://cdn.pydata.org/bokeh/release/bokeh-0.12.13.min.css\");\n      Bokeh.embed.inject_css(\"https://cdn.pydata.org/bokeh/release/bokeh-0.12.13.min.css\");\n      console.log(\"Bokeh: injecting CSS: https://cdn.pydata.org/bokeh/release/bokeh-widgets-0.12.13.min.css\");\n      Bokeh.embed.inject_css(\"https://cdn.pydata.org/bokeh/release/bokeh-widgets-0.12.13.min.css\");\n      console.log(\"Bokeh: injecting CSS: https://cdn.pydata.org/bokeh/release/bokeh-tables-0.12.13.min.css\");\n      Bokeh.embed.inject_css(\"https://cdn.pydata.org/bokeh/release/bokeh-tables-0.12.13.min.css\");\n    }\n  ];\n\n  function run_inline_js() {\n    \n    if ((root.Bokeh !== undefined) || (force === true)) {\n      for (var i = 0; i < inline_js.length; i++) {\n        inline_js[i].call(root, root.Bokeh);\n      }if (force === true) {\n        display_loaded();\n      }} else if (Date.now() < root._bokeh_timeout) {\n      setTimeout(run_inline_js, 100);\n    } else if (!root._bokeh_failed_load) {\n      console.log(\"Bokeh: BokehJS failed to load within specified timeout.\");\n      root._bokeh_failed_load = true;\n    } else if (force !== true) {\n      var cell = $(document.getElementById(\"085fd3bb-7217-476b-afec-519a67914115\")).parents('.cell').data().cell;\n      cell.output_area.append_execute_result(NB_LOAD_WARNING)\n    }\n\n  }\n\n  if (root._bokeh_is_loading === 0) {\n    console.log(\"Bokeh: BokehJS loaded, going straight to plotting\");\n    run_inline_js();\n  } else {\n    load_libs(js_urls, function() {\n      console.log(\"Bokeh: BokehJS plotting callback run at\", now());\n      run_inline_js();\n    });\n  }\n}(window));"
     },
     "metadata": {},
     "output_type": "display_data"
    }
   ],
   "source": [
    "%pylab inline\n",
    "from bokeh.plotting import figure as figbok\n",
    "from bokeh.io import output_notebook\n",
    "from bokeh.io import show as showbok\n",
    "output_notebook()"
   ]
  },
  {
   "cell_type": "markdown",
   "metadata": {},
   "source": [
    "## In Fourier space"
   ]
  },
  {
   "cell_type": "code",
   "execution_count": 52,
   "metadata": {},
   "outputs": [],
   "source": [
    "from wavan import uv_plane"
   ]
  },
  {
   "cell_type": "code",
   "execution_count": 105,
   "metadata": {},
   "outputs": [
    {
     "data": {
      "text/html": [
       "\n",
       "<div class=\"bk-root\">\n",
       "    <div class=\"bk-plotdiv\" id=\"4e0f0f9e-ed64-4238-9d8b-6dab445b8244\"></div>\n",
       "</div>"
      ]
     },
     "metadata": {},
     "output_type": "display_data"
    },
    {
     "data": {
      "application/javascript": [
       "(function(root) {\n",
       "  function embed_document(root) {\n",
       "    \n",
       "  var docs_json = {\"77197be3-7779-41be-a2e9-d1ad10645887\":{\"roots\":{\"references\":[{\"attributes\":{\"below\":[{\"id\":\"9a6140b4-9edb-4bb2-9306-5164e7ff1271\",\"type\":\"LinearAxis\"}],\"left\":[{\"id\":\"7b4c4eb1-8bf9-40f6-b2ed-0ddc8fb3741e\",\"type\":\"LinearAxis\"}],\"renderers\":[{\"id\":\"9a6140b4-9edb-4bb2-9306-5164e7ff1271\",\"type\":\"LinearAxis\"},{\"id\":\"9bc49d47-ada6-4784-bd9c-7bf9ab7ec8a4\",\"type\":\"Grid\"},{\"id\":\"7b4c4eb1-8bf9-40f6-b2ed-0ddc8fb3741e\",\"type\":\"LinearAxis\"},{\"id\":\"a7e81e6f-f11a-49be-90a7-4feb3008a293\",\"type\":\"Grid\"},{\"id\":\"0692d95b-7754-4a2c-a197-45dee35f0a4f\",\"type\":\"BoxAnnotation\"},{\"id\":\"1b98b1a6-0317-486c-9b35-bc621c1fa6ee\",\"type\":\"Legend\"},{\"id\":\"1f6e90de-dd72-4210-84ee-655f37e280b9\",\"type\":\"GlyphRenderer\"}],\"title\":{\"id\":\"f02e130c-e148-4236-b9c3-a734e2855a9d\",\"type\":\"Title\"},\"toolbar\":{\"id\":\"1b29f8c1-4004-4423-b4e0-92110d9cfca1\",\"type\":\"Toolbar\"},\"x_range\":{\"id\":\"b5becba6-df24-41b2-90d1-64348fc3f367\",\"type\":\"DataRange1d\"},\"x_scale\":{\"id\":\"e568d7b1-49c1-4723-aab5-a99faf476905\",\"type\":\"LinearScale\"},\"y_range\":{\"id\":\"06f2408b-02d0-41bb-961b-81b3cb36bcf2\",\"type\":\"DataRange1d\"},\"y_scale\":{\"id\":\"fac1119f-d060-4f98-b322-cf5c465b785b\",\"type\":\"LinearScale\"}},\"id\":\"11cea709-1889-45a4-a8f4-40b374af72b4\",\"subtype\":\"Figure\",\"type\":\"Plot\"},{\"attributes\":{\"callback\":null},\"id\":\"06f2408b-02d0-41bb-961b-81b3cb36bcf2\",\"type\":\"DataRange1d\"},{\"attributes\":{\"active_drag\":\"auto\",\"active_inspect\":\"auto\",\"active_scroll\":\"auto\",\"active_tap\":\"auto\",\"tools\":[{\"id\":\"b3db0586-2384-4f69-954a-963a744b7976\",\"type\":\"PanTool\"},{\"id\":\"beae6510-19ef-4240-97f8-d051deb96cb8\",\"type\":\"BoxZoomTool\"},{\"id\":\"595a19e9-cda4-44f8-921e-c2ac21c9dca7\",\"type\":\"WheelZoomTool\"},{\"id\":\"6b200fa2-2d78-456b-95d2-eb041d08479c\",\"type\":\"ResetTool\"},{\"id\":\"ca18e439-b914-4a7f-a603-43c2880d771f\",\"type\":\"SaveTool\"}]},\"id\":\"1b29f8c1-4004-4423-b4e0-92110d9cfca1\",\"type\":\"Toolbar\"},{\"attributes\":{\"overlay\":{\"id\":\"0692d95b-7754-4a2c-a197-45dee35f0a4f\",\"type\":\"BoxAnnotation\"}},\"id\":\"beae6510-19ef-4240-97f8-d051deb96cb8\",\"type\":\"BoxZoomTool\"},{\"attributes\":{\"plot\":null,\"text\":\"\"},\"id\":\"f02e130c-e148-4236-b9c3-a734e2855a9d\",\"type\":\"Title\"},{\"attributes\":{},\"id\":\"ca18e439-b914-4a7f-a603-43c2880d771f\",\"type\":\"SaveTool\"},{\"attributes\":{\"axis_label\":\"x\",\"formatter\":{\"id\":\"477aa9c1-0a12-4f57-9db5-35d6105d3f49\",\"type\":\"BasicTickFormatter\"},\"plot\":{\"id\":\"11cea709-1889-45a4-a8f4-40b374af72b4\",\"subtype\":\"Figure\",\"type\":\"Plot\"},\"ticker\":{\"id\":\"a50cf247-4998-459c-9a9f-32c915bf1afe\",\"type\":\"BasicTicker\"}},\"id\":\"9a6140b4-9edb-4bb2-9306-5164e7ff1271\",\"type\":\"LinearAxis\"},{\"attributes\":{},\"id\":\"789229c7-faa9-484a-8602-ebda17ab9bc3\",\"type\":\"BasicTicker\"},{\"attributes\":{},\"id\":\"fe8ae14f-df91-4e61-93f3-f4488a443b5b\",\"type\":\"BasicTickFormatter\"},{\"attributes\":{\"callback\":null},\"id\":\"b5becba6-df24-41b2-90d1-64348fc3f367\",\"type\":\"DataRange1d\"},{\"attributes\":{\"line_color\":\"#1f77b4\",\"x\":{\"field\":\"x\"},\"y\":{\"field\":\"y\"}},\"id\":\"2f193696-e5da-4a39-b214-06aa6cbf27cb\",\"type\":\"Line\"},{\"attributes\":{},\"id\":\"595a19e9-cda4-44f8-921e-c2ac21c9dca7\",\"type\":\"WheelZoomTool\"},{\"attributes\":{\"label\":{\"value\":\"Scale 26.68\"},\"renderers\":[{\"id\":\"1f6e90de-dd72-4210-84ee-655f37e280b9\",\"type\":\"GlyphRenderer\"}]},\"id\":\"b68321fd-d59d-4d03-b7d6-c2deb9f68b15\",\"type\":\"LegendItem\"},{\"attributes\":{},\"id\":\"a50cf247-4998-459c-9a9f-32c915bf1afe\",\"type\":\"BasicTicker\"},{\"attributes\":{\"dimension\":1,\"plot\":{\"id\":\"11cea709-1889-45a4-a8f4-40b374af72b4\",\"subtype\":\"Figure\",\"type\":\"Plot\"},\"ticker\":{\"id\":\"789229c7-faa9-484a-8602-ebda17ab9bc3\",\"type\":\"BasicTicker\"}},\"id\":\"a7e81e6f-f11a-49be-90a7-4feb3008a293\",\"type\":\"Grid\"},{\"attributes\":{},\"id\":\"fac1119f-d060-4f98-b322-cf5c465b785b\",\"type\":\"LinearScale\"},{\"attributes\":{\"axis_label\":\"Amplitude\",\"formatter\":{\"id\":\"fe8ae14f-df91-4e61-93f3-f4488a443b5b\",\"type\":\"BasicTickFormatter\"},\"plot\":{\"id\":\"11cea709-1889-45a4-a8f4-40b374af72b4\",\"subtype\":\"Figure\",\"type\":\"Plot\"},\"ticker\":{\"id\":\"789229c7-faa9-484a-8602-ebda17ab9bc3\",\"type\":\"BasicTicker\"}},\"id\":\"7b4c4eb1-8bf9-40f6-b2ed-0ddc8fb3741e\",\"type\":\"LinearAxis\"},{\"attributes\":{\"bottom_units\":\"screen\",\"fill_alpha\":{\"value\":0.5},\"fill_color\":{\"value\":\"lightgrey\"},\"left_units\":\"screen\",\"level\":\"overlay\",\"line_alpha\":{\"value\":1.0},\"line_color\":{\"value\":\"black\"},\"line_dash\":[4,4],\"line_width\":{\"value\":2},\"plot\":null,\"render_mode\":\"css\",\"right_units\":\"screen\",\"top_units\":\"screen\"},\"id\":\"0692d95b-7754-4a2c-a197-45dee35f0a4f\",\"type\":\"BoxAnnotation\"},{\"attributes\":{},\"id\":\"b3db0586-2384-4f69-954a-963a744b7976\",\"type\":\"PanTool\"},{\"attributes\":{\"source\":{\"id\":\"6e7b09e4-fbbd-45a7-b67c-bd7c534ccc78\",\"type\":\"ColumnDataSource\"}},\"id\":\"0b733f54-fa75-4dca-ac46-83efab0420ac\",\"type\":\"CDSView\"},{\"attributes\":{\"items\":[{\"id\":\"b68321fd-d59d-4d03-b7d6-c2deb9f68b15\",\"type\":\"LegendItem\"}],\"plot\":{\"id\":\"11cea709-1889-45a4-a8f4-40b374af72b4\",\"subtype\":\"Figure\",\"type\":\"Plot\"}},\"id\":\"1b98b1a6-0317-486c-9b35-bc621c1fa6ee\",\"type\":\"Legend\"},{\"attributes\":{\"plot\":{\"id\":\"11cea709-1889-45a4-a8f4-40b374af72b4\",\"subtype\":\"Figure\",\"type\":\"Plot\"},\"ticker\":{\"id\":\"a50cf247-4998-459c-9a9f-32c915bf1afe\",\"type\":\"BasicTicker\"}},\"id\":\"9bc49d47-ada6-4784-bd9c-7bf9ab7ec8a4\",\"type\":\"Grid\"},{\"attributes\":{},\"id\":\"6b200fa2-2d78-456b-95d2-eb041d08479c\",\"type\":\"ResetTool\"},{\"attributes\":{},\"id\":\"e568d7b1-49c1-4723-aab5-a99faf476905\",\"type\":\"LinearScale\"},{\"attributes\":{},\"id\":\"477aa9c1-0a12-4f57-9db5-35d6105d3f49\",\"type\":\"BasicTickFormatter\"},{\"attributes\":{\"data_source\":{\"id\":\"6e7b09e4-fbbd-45a7-b67c-bd7c534ccc78\",\"type\":\"ColumnDataSource\"},\"glyph\":{\"id\":\"2f193696-e5da-4a39-b214-06aa6cbf27cb\",\"type\":\"Line\"},\"hover_glyph\":null,\"muted_glyph\":null,\"nonselection_glyph\":{\"id\":\"dc3b94d6-f03f-4e67-9a14-dd57040c2755\",\"type\":\"Line\"},\"selection_glyph\":null,\"view\":{\"id\":\"0b733f54-fa75-4dca-ac46-83efab0420ac\",\"type\":\"CDSView\"}},\"id\":\"1f6e90de-dd72-4210-84ee-655f37e280b9\",\"type\":\"GlyphRenderer\"},{\"attributes\":{\"callback\":null,\"column_names\":[\"y\",\"x\"],\"data\":{\"x\":{\"__ndarray__\":\"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\",\"dtype\":\"float64\",\"shape\":[512]},\"y\":{\"__ndarray__\":\"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\",\"dtype\":\"float64\",\"shape\":[512]}}},\"id\":\"6e7b09e4-fbbd-45a7-b67c-bd7c534ccc78\",\"type\":\"ColumnDataSource\"},{\"attributes\":{\"line_alpha\":0.1,\"line_color\":\"#1f77b4\",\"x\":{\"field\":\"x\"},\"y\":{\"field\":\"y\"}},\"id\":\"dc3b94d6-f03f-4e67-9a14-dd57040c2755\",\"type\":\"Line\"}],\"root_ids\":[\"11cea709-1889-45a4-a8f4-40b374af72b4\"]},\"title\":\"Bokeh Application\",\"version\":\"0.12.13\"}};\n",
       "  var render_items = [{\"docid\":\"77197be3-7779-41be-a2e9-d1ad10645887\",\"elementid\":\"4e0f0f9e-ed64-4238-9d8b-6dab445b8244\",\"modelid\":\"11cea709-1889-45a4-a8f4-40b374af72b4\"}];\n",
       "  root.Bokeh.embed.embed_items_notebook(docs_json, render_items);\n",
       "\n",
       "  }\n",
       "  if (root.Bokeh !== undefined) {\n",
       "    embed_document(root);\n",
       "  } else {\n",
       "    var attempts = 0;\n",
       "    var timer = setInterval(function(root) {\n",
       "      if (root.Bokeh !== undefined) {\n",
       "        embed_document(root);\n",
       "        clearInterval(timer);\n",
       "      }\n",
       "      attempts++;\n",
       "      if (attempts > 100) {\n",
       "        console.log(\"Bokeh: ERROR: Unable to run BokehJS code because BokehJS library is missing\")\n",
       "        clearInterval(timer);\n",
       "      }\n",
       "    }, 10, root)\n",
       "  }\n",
       "})(window);"
      ],
      "application/vnd.bokehjs_exec.v0+json": ""
     },
     "metadata": {
      "application/vnd.bokehjs_exec.v0+json": {
       "id": "11cea709-1889-45a4-a8f4-40b374af72b4"
      }
     },
     "output_type": "display_data"
    }
   ],
   "source": [
    "N = 512.\n",
    "\n",
    "ko= 5.336\n",
    "scale = 5.\n",
    "a = scale * ko\n",
    "\n",
    "x, y, shiftx, shifty, ishiftx, ishifty = uv_plane(N, N)\n",
    "t = 0.\n",
    "\n",
    "morletFT =np.exp( -.5*((a*x - ko*np.cos(t))**2. + (a*y - ko*np.sin(t))**2.))\n",
    "\n",
    "Tools = 'pan,box_zoom,wheel_zoom,reset,save'\n",
    "f = figbok( x_axis_label=\"x\", y_axis_label=\"Amplitude\",tools=Tools)\n",
    "f.line(x[0,:], morletFT[int(N/2),:], legend='Scale '+np.str(a))\n",
    "\n",
    "showbok(f)"
   ]
  },
  {
   "cell_type": "code",
   "execution_count": 117,
   "metadata": {},
   "outputs": [
    {
     "data": {
      "text/html": [
       "\n",
       "<div class=\"bk-root\">\n",
       "    <div class=\"bk-plotdiv\" id=\"6331b78e-1789-45ed-93b6-57700872402f\"></div>\n",
       "</div>"
      ]
     },
     "metadata": {},
     "output_type": "display_data"
    },
    {
     "data": {
      "application/javascript": [
       "(function(root) {\n",
       "  function embed_document(root) {\n",
       "    \n",
       "  var docs_json = {\"02e4859b-362f-49d7-b107-bc7c8194e04c\":{\"roots\":{\"references\":[{\"attributes\":{},\"id\":\"e481642f-ae40-41d2-b316-5c2d738136b8\",\"type\":\"BasicTicker\"},{\"attributes\":{},\"id\":\"7fbf603f-c4c7-4383-a2f7-4bb88f9e7809\",\"type\":\"BasicTickFormatter\"},{\"attributes\":{\"label\":{\"value\":\"Scale 26.68\"},\"renderers\":[{\"id\":\"3d859b94-afbb-44bc-8b2f-4b6c3c3d31a6\",\"type\":\"GlyphRenderer\"}]},\"id\":\"995634bb-9814-4b34-ae96-6e4566aadb99\",\"type\":\"LegendItem\"},{\"attributes\":{\"bottom_units\":\"screen\",\"fill_alpha\":{\"value\":0.5},\"fill_color\":{\"value\":\"lightgrey\"},\"left_units\":\"screen\",\"level\":\"overlay\",\"line_alpha\":{\"value\":1.0},\"line_color\":{\"value\":\"black\"},\"line_dash\":[4,4],\"line_width\":{\"value\":2},\"plot\":null,\"render_mode\":\"css\",\"right_units\":\"screen\",\"top_units\":\"screen\"},\"id\":\"de8628a3-6677-4994-b2c7-f8dc1a87ec6b\",\"type\":\"BoxAnnotation\"},{\"attributes\":{\"line_color\":\"orange\",\"x\":{\"field\":\"x\"},\"y\":{\"field\":\"y\"}},\"id\":\"ab920d98-a92f-45bf-a7e3-435eefce3055\",\"type\":\"Line\"},{\"attributes\":{\"axis_label\":\"x\",\"formatter\":{\"id\":\"3654c242-c44f-4546-987e-96faa660bc2b\",\"type\":\"BasicTickFormatter\"},\"plot\":{\"id\":\"5ec02af2-05c2-41b0-afde-e78190830f60\",\"subtype\":\"Figure\",\"type\":\"Plot\"},\"ticker\":{\"id\":\"94e4c12b-fba6-4261-bf2b-16e45d00e0f0\",\"type\":\"BasicTicker\"}},\"id\":\"52fa975f-79e9-4128-9f7f-e561d3cf5308\",\"type\":\"LinearAxis\"},{\"attributes\":{\"data_source\":{\"id\":\"e0feee59-607f-4538-abb7-1b35c1e61db8\",\"type\":\"ColumnDataSource\"},\"glyph\":{\"id\":\"ab920d98-a92f-45bf-a7e3-435eefce3055\",\"type\":\"Line\"},\"hover_glyph\":null,\"muted_glyph\":null,\"nonselection_glyph\":{\"id\":\"a4a07925-8303-4c45-89d0-936850803ac0\",\"type\":\"Line\"},\"selection_glyph\":null,\"view\":{\"id\":\"346943c7-0996-4185-9dde-00387d1b07fd\",\"type\":\"CDSView\"}},\"id\":\"d1c6f316-4963-4a6f-af8c-d320f93a1d8a\",\"type\":\"GlyphRenderer\"},{\"attributes\":{\"overlay\":{\"id\":\"de8628a3-6677-4994-b2c7-f8dc1a87ec6b\",\"type\":\"BoxAnnotation\"}},\"id\":\"65b3e40a-d941-4150-915b-22e02abb9e51\",\"type\":\"BoxZoomTool\"},{\"attributes\":{\"callback\":null},\"id\":\"e5ec7f3e-482e-4955-9266-d02c0227e842\",\"type\":\"DataRange1d\"},{\"attributes\":{\"source\":{\"id\":\"e0feee59-607f-4538-abb7-1b35c1e61db8\",\"type\":\"ColumnDataSource\"}},\"id\":\"346943c7-0996-4185-9dde-00387d1b07fd\",\"type\":\"CDSView\"},{\"attributes\":{\"source\":{\"id\":\"3047de4f-7516-4736-b2cc-5e03ddea59e0\",\"type\":\"ColumnDataSource\"}},\"id\":\"5a3c46b2-a748-4f0a-bff1-7dcc2fa7eee4\",\"type\":\"CDSView\"},{\"attributes\":{\"plot\":null,\"text\":\"\"},\"id\":\"a44eeb0c-f982-40d8-ac1a-3f759be065f1\",\"type\":\"Title\"},{\"attributes\":{\"items\":[{\"id\":\"995634bb-9814-4b34-ae96-6e4566aadb99\",\"type\":\"LegendItem\"},{\"id\":\"ca3fd674-1576-4f1b-be25-1f36cd1d8209\",\"type\":\"LegendItem\"}],\"plot\":{\"id\":\"5ec02af2-05c2-41b0-afde-e78190830f60\",\"subtype\":\"Figure\",\"type\":\"Plot\"}},\"id\":\"401b7881-2e1e-4c80-8bb3-4577efcfb89a\",\"type\":\"Legend\"},{\"attributes\":{\"active_drag\":\"auto\",\"active_inspect\":\"auto\",\"active_scroll\":\"auto\",\"active_tap\":\"auto\",\"tools\":[{\"id\":\"cb8ba7d1-dedf-461b-8a1e-ca8cfd9c703d\",\"type\":\"PanTool\"},{\"id\":\"65b3e40a-d941-4150-915b-22e02abb9e51\",\"type\":\"BoxZoomTool\"},{\"id\":\"e731cc9a-eaad-4f19-bd44-cdcac7e95557\",\"type\":\"WheelZoomTool\"},{\"id\":\"34b0634b-4d1c-4b5c-98ca-58386bb8f248\",\"type\":\"ResetTool\"},{\"id\":\"469e1901-92d2-4977-8b76-4a9a703a5231\",\"type\":\"SaveTool\"}]},\"id\":\"f8f22e6a-1768-43bc-9314-c8b916ec3a81\",\"type\":\"Toolbar\"},{\"attributes\":{},\"id\":\"cb8ba7d1-dedf-461b-8a1e-ca8cfd9c703d\",\"type\":\"PanTool\"},{\"attributes\":{\"label\":{\"value\":\"Gaussian\"},\"renderers\":[{\"id\":\"d1c6f316-4963-4a6f-af8c-d320f93a1d8a\",\"type\":\"GlyphRenderer\"}]},\"id\":\"ca3fd674-1576-4f1b-be25-1f36cd1d8209\",\"type\":\"LegendItem\"},{\"attributes\":{\"line_alpha\":0.1,\"line_color\":\"#1f77b4\",\"x\":{\"field\":\"x\"},\"y\":{\"field\":\"y\"}},\"id\":\"dab760f6-55ee-4320-9af1-5ffb7025aab5\",\"type\":\"Line\"},{\"attributes\":{\"data_source\":{\"id\":\"3047de4f-7516-4736-b2cc-5e03ddea59e0\",\"type\":\"ColumnDataSource\"},\"glyph\":{\"id\":\"ef6c511e-5120-4f54-b3d9-563b231fcffe\",\"type\":\"Line\"},\"hover_glyph\":null,\"muted_glyph\":null,\"nonselection_glyph\":{\"id\":\"dab760f6-55ee-4320-9af1-5ffb7025aab5\",\"type\":\"Line\"},\"selection_glyph\":null,\"view\":{\"id\":\"5a3c46b2-a748-4f0a-bff1-7dcc2fa7eee4\",\"type\":\"CDSView\"}},\"id\":\"3d859b94-afbb-44bc-8b2f-4b6c3c3d31a6\",\"type\":\"GlyphRenderer\"},{\"attributes\":{\"axis_label\":\"Amplitude\",\"formatter\":{\"id\":\"7fbf603f-c4c7-4383-a2f7-4bb88f9e7809\",\"type\":\"BasicTickFormatter\"},\"plot\":{\"id\":\"5ec02af2-05c2-41b0-afde-e78190830f60\",\"subtype\":\"Figure\",\"type\":\"Plot\"},\"ticker\":{\"id\":\"e481642f-ae40-41d2-b316-5c2d738136b8\",\"type\":\"BasicTicker\"}},\"id\":\"3ae81b21-073c-47b5-a8dd-3ed3cd9a4224\",\"type\":\"LinearAxis\"},{\"attributes\":{},\"id\":\"94e4c12b-fba6-4261-bf2b-16e45d00e0f0\",\"type\":\"BasicTicker\"},{\"attributes\":{\"callback\":null,\"column_names\":[\"y\",\"x\"],\"data\":{\"x\":{\"__ndarray__\":\"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\",\"dtype\":\"float64\",\"shape\":[512]},\"y\":{\"__ndarray__\":\"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\",\"dtype\":\"float64\",\"shape\":[512]}}},\"id\":\"3047de4f-7516-4736-b2cc-5e03ddea59e0\",\"type\":\"ColumnDataSource\"},{\"attributes\":{},\"id\":\"d2edf0c3-9781-493c-aff3-d00f30de2437\",\"type\":\"LinearScale\"},{\"attributes\":{\"dimension\":1,\"plot\":{\"id\":\"5ec02af2-05c2-41b0-afde-e78190830f60\",\"subtype\":\"Figure\",\"type\":\"Plot\"},\"ticker\":{\"id\":\"e481642f-ae40-41d2-b316-5c2d738136b8\",\"type\":\"BasicTicker\"}},\"id\":\"3351fa83-aef8-4988-9325-5449448a2ff7\",\"type\":\"Grid\"},{\"attributes\":{},\"id\":\"e731cc9a-eaad-4f19-bd44-cdcac7e95557\",\"type\":\"WheelZoomTool\"},{\"attributes\":{\"below\":[{\"id\":\"52fa975f-79e9-4128-9f7f-e561d3cf5308\",\"type\":\"LinearAxis\"}],\"left\":[{\"id\":\"3ae81b21-073c-47b5-a8dd-3ed3cd9a4224\",\"type\":\"LinearAxis\"}],\"renderers\":[{\"id\":\"52fa975f-79e9-4128-9f7f-e561d3cf5308\",\"type\":\"LinearAxis\"},{\"id\":\"c0ece6c6-9cd5-4b9b-9bdf-93addd0d3e59\",\"type\":\"Grid\"},{\"id\":\"3ae81b21-073c-47b5-a8dd-3ed3cd9a4224\",\"type\":\"LinearAxis\"},{\"id\":\"3351fa83-aef8-4988-9325-5449448a2ff7\",\"type\":\"Grid\"},{\"id\":\"de8628a3-6677-4994-b2c7-f8dc1a87ec6b\",\"type\":\"BoxAnnotation\"},{\"id\":\"401b7881-2e1e-4c80-8bb3-4577efcfb89a\",\"type\":\"Legend\"},{\"id\":\"3d859b94-afbb-44bc-8b2f-4b6c3c3d31a6\",\"type\":\"GlyphRenderer\"},{\"id\":\"d1c6f316-4963-4a6f-af8c-d320f93a1d8a\",\"type\":\"GlyphRenderer\"}],\"title\":{\"id\":\"a44eeb0c-f982-40d8-ac1a-3f759be065f1\",\"type\":\"Title\"},\"toolbar\":{\"id\":\"f8f22e6a-1768-43bc-9314-c8b916ec3a81\",\"type\":\"Toolbar\"},\"x_range\":{\"id\":\"c4e85ea6-b55f-49ce-a623-df66e73fe2de\",\"type\":\"DataRange1d\"},\"x_scale\":{\"id\":\"c18be1f0-cd58-41c4-9720-d0c1e93f7d7e\",\"type\":\"LinearScale\"},\"y_range\":{\"id\":\"e5ec7f3e-482e-4955-9266-d02c0227e842\",\"type\":\"DataRange1d\"},\"y_scale\":{\"id\":\"d2edf0c3-9781-493c-aff3-d00f30de2437\",\"type\":\"LinearScale\"}},\"id\":\"5ec02af2-05c2-41b0-afde-e78190830f60\",\"subtype\":\"Figure\",\"type\":\"Plot\"},{\"attributes\":{\"callback\":null,\"column_names\":[\"x\",\"y\"],\"data\":{\"x\":{\"__ndarray__\":\"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\",\"dtype\":\"float64\",\"shape\":[512]},\"y\":{\"__ndarray__\":\"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\",\"dtype\":\"float64\",\"shape\":[512]}}},\"id\":\"e0feee59-607f-4538-abb7-1b35c1e61db8\",\"type\":\"ColumnDataSource\"},{\"attributes\":{},\"id\":\"3654c242-c44f-4546-987e-96faa660bc2b\",\"type\":\"BasicTickFormatter\"},{\"attributes\":{\"line_alpha\":0.1,\"line_color\":\"#1f77b4\",\"x\":{\"field\":\"x\"},\"y\":{\"field\":\"y\"}},\"id\":\"a4a07925-8303-4c45-89d0-936850803ac0\",\"type\":\"Line\"},{\"attributes\":{\"plot\":{\"id\":\"5ec02af2-05c2-41b0-afde-e78190830f60\",\"subtype\":\"Figure\",\"type\":\"Plot\"},\"ticker\":{\"id\":\"94e4c12b-fba6-4261-bf2b-16e45d00e0f0\",\"type\":\"BasicTicker\"}},\"id\":\"c0ece6c6-9cd5-4b9b-9bdf-93addd0d3e59\",\"type\":\"Grid\"},{\"attributes\":{},\"id\":\"469e1901-92d2-4977-8b76-4a9a703a5231\",\"type\":\"SaveTool\"},{\"attributes\":{\"line_color\":\"#1f77b4\",\"x\":{\"field\":\"x\"},\"y\":{\"field\":\"y\"}},\"id\":\"ef6c511e-5120-4f54-b3d9-563b231fcffe\",\"type\":\"Line\"},{\"attributes\":{},\"id\":\"34b0634b-4d1c-4b5c-98ca-58386bb8f248\",\"type\":\"ResetTool\"},{\"attributes\":{},\"id\":\"c18be1f0-cd58-41c4-9720-d0c1e93f7d7e\",\"type\":\"LinearScale\"},{\"attributes\":{\"callback\":null},\"id\":\"c4e85ea6-b55f-49ce-a623-df66e73fe2de\",\"type\":\"DataRange1d\"}],\"root_ids\":[\"5ec02af2-05c2-41b0-afde-e78190830f60\"]},\"title\":\"Bokeh Application\",\"version\":\"0.12.13\"}};\n",
       "  var render_items = [{\"docid\":\"02e4859b-362f-49d7-b107-bc7c8194e04c\",\"elementid\":\"6331b78e-1789-45ed-93b6-57700872402f\",\"modelid\":\"5ec02af2-05c2-41b0-afde-e78190830f60\"}];\n",
       "  root.Bokeh.embed.embed_items_notebook(docs_json, render_items);\n",
       "\n",
       "  }\n",
       "  if (root.Bokeh !== undefined) {\n",
       "    embed_document(root);\n",
       "  } else {\n",
       "    var attempts = 0;\n",
       "    var timer = setInterval(function(root) {\n",
       "      if (root.Bokeh !== undefined) {\n",
       "        embed_document(root);\n",
       "        clearInterval(timer);\n",
       "      }\n",
       "      attempts++;\n",
       "      if (attempts > 100) {\n",
       "        console.log(\"Bokeh: ERROR: Unable to run BokehJS code because BokehJS library is missing\")\n",
       "        clearInterval(timer);\n",
       "      }\n",
       "    }, 10, root)\n",
       "  }\n",
       "})(window);"
      ],
      "application/vnd.bokehjs_exec.v0+json": ""
     },
     "metadata": {
      "application/vnd.bokehjs_exec.v0+json": {
       "id": "5ec02af2-05c2-41b0-afde-e78190830f60"
      }
     },
     "output_type": "display_data"
    }
   ],
   "source": [
    "#morletFT= np.roll(morletFT,int(shiftx), axis=1)\n",
    "#morletFT= np.roll(morletFT,int(shifty), axis=0)\n",
    "#morlet = np.fft.ifft(morletFT)\n",
    "#morlet= np.roll(morlet,int(shiftx), axis=1)\n",
    "#morlet= np.roll(morlet,int(shifty), axis=0)\n",
    "\n",
    "#Gaussian define in Fourier space\n",
    "r = np.sqrt(x**2. + y**2.)\n",
    "gaussFT = np.exp(-.5*(r*a)**2.)\n",
    "\n",
    "gaussFT= np.roll(gaussFT,int(shiftx), axis=1)\n",
    "gaussFT= np.roll(gaussFT,int(shifty), axis=0)\n",
    "gauss = np.fft.ifft(gaussFT)\n",
    "gauss= np.roll(gauss,int(shiftx), axis=1)\n",
    "gauss= np.roll(gauss,int(shifty), axis=0)\n",
    "\n",
    "Tools = 'pan,box_zoom,wheel_zoom,reset,save'\n",
    "f = figbok( x_axis_label=\"x\", y_axis_label=\"Amplitude\",tools=Tools)\n",
    "f.line(x[0,:], morlet[int(N/2),:].real, legend='Scale '+np.str(a))\n",
    "f.line(x[0,:], np.abs(gauss[int(N/2),:]), legend='Gaussian',color='orange')\n",
    "\n",
    "showbok(f)"
   ]
  },
  {
   "cell_type": "code",
   "execution_count": 107,
   "metadata": {},
   "outputs": [
    {
     "data": {
      "text/plain": [
       "<matplotlib.colorbar.Colorbar at 0x1a25132fd0>"
      ]
     },
     "execution_count": 107,
     "metadata": {},
     "output_type": "execute_result"
    },
    {
     "data": {
      "image/png": "[encoded data removed]",
      "text/plain": [
       "<matplotlib.figure.Figure at 0x1a244a76d0>"
      ]
     },
     "metadata": {},
     "output_type": "display_data"
    }
   ],
   "source": [
    "figure(figsize=(10,10))\n",
    "imshow(morlet.real,origin='below')\n",
    "plt.colorbar()"
   ]
  },
  {
   "cell_type": "markdown",
   "metadata": {},
   "source": [
    "## In X-space"
   ]
  },
  {
   "cell_type": "code",
   "execution_count": 22,
   "metadata": {},
   "outputs": [
    {
     "data": {
      "text/html": [
       "\n",
       "<div class=\"bk-root\">\n",
       "    <div class=\"bk-plotdiv\" id=\"5a355047-2e3c-405b-ae3a-31576946f8c7\"></div>\n",
       "</div>"
      ]
     },
     "metadata": {},
     "output_type": "display_data"
    },
    {
     "data": {
      "application/javascript": [
       "(function(root) {\n",
       "  function embed_document(root) {\n",
       "    \n",
       "  var docs_json = {\"b1db0f03-5f9d-4a19-b16a-0c6831e380b8\":{\"roots\":{\"references\":[{\"attributes\":{\"callback\":null},\"id\":\"702041a4-6ec3-4abb-8a31-6f1ead201ccf\",\"type\":\"DataRange1d\"},{\"attributes\":{\"dimension\":1,\"plot\":{\"id\":\"f2e5b6e9-e865-4110-a95c-cb2be2523983\",\"subtype\":\"Figure\",\"type\":\"Plot\"},\"ticker\":{\"id\":\"85b83ec4-39f9-4d4b-abd4-bde7493204af\",\"type\":\"BasicTicker\"}},\"id\":\"6300c35e-acee-488d-816c-c61dc97cbefa\",\"type\":\"Grid\"},{\"attributes\":{},\"id\":\"2bcfe567-60eb-4d08-a0d7-44cd5f87a0f8\",\"type\":\"LinearScale\"},{\"attributes\":{\"source\":{\"id\":\"584d97a4-e40c-4996-9577-d5a1f4e3f3b3\",\"type\":\"ColumnDataSource\"}},\"id\":\"3775e0fe-adc7-4432-bd23-5432b15398b7\",\"type\":\"CDSView\"},{\"attributes\":{\"bottom_units\":\"screen\",\"fill_alpha\":{\"value\":0.5},\"fill_color\":{\"value\":\"lightgrey\"},\"left_units\":\"screen\",\"level\":\"overlay\",\"line_alpha\":{\"value\":1.0},\"line_color\":{\"value\":\"black\"},\"line_dash\":[4,4],\"line_width\":{\"value\":2},\"plot\":null,\"render_mode\":\"css\",\"right_units\":\"screen\",\"top_units\":\"screen\"},\"id\":\"16404070-b1dc-462c-8676-fdbd30c0aa51\",\"type\":\"BoxAnnotation\"},{\"attributes\":{},\"id\":\"03b6a4b6-0d41-4499-9070-90423fb86bef\",\"type\":\"WheelZoomTool\"},{\"attributes\":{\"label\":{\"value\":\"Scale 26.68\"},\"renderers\":[{\"id\":\"33bb312f-807d-4125-9505-3e3a51ec9586\",\"type\":\"GlyphRenderer\"}]},\"id\":\"4868c6aa-5da4-4789-b539-2bbf796be4d8\",\"type\":\"LegendItem\"},{\"attributes\":{\"overlay\":{\"id\":\"16404070-b1dc-462c-8676-fdbd30c0aa51\",\"type\":\"BoxAnnotation\"}},\"id\":\"9e1d1413-50d5-4f35-b557-3196d0f00bd0\",\"type\":\"BoxZoomTool\"},{\"attributes\":{},\"id\":\"9a6b7cc3-eac4-48f6-81f9-7f5424206512\",\"type\":\"ResetTool\"},{\"attributes\":{\"plot\":{\"id\":\"f2e5b6e9-e865-4110-a95c-cb2be2523983\",\"subtype\":\"Figure\",\"type\":\"Plot\"},\"ticker\":{\"id\":\"e2114f25-117e-4fd3-b755-1e15caa9c596\",\"type\":\"BasicTicker\"}},\"id\":\"c3ba140e-d021-41ae-93d2-945a84a43cfa\",\"type\":\"Grid\"},{\"attributes\":{\"callback\":null},\"id\":\"1bb2427f-7211-42e6-995f-f6b3fde96436\",\"type\":\"DataRange1d\"},{\"attributes\":{},\"id\":\"23e0d2e1-d5e6-4541-9e8f-f8b66e0491ef\",\"type\":\"PanTool\"},{\"attributes\":{\"plot\":null,\"text\":\"\"},\"id\":\"d70883b7-b54e-48b5-ba31-df7462767bbe\",\"type\":\"Title\"},{\"attributes\":{\"line_alpha\":0.1,\"line_color\":\"#1f77b4\",\"x\":{\"field\":\"x\"},\"y\":{\"field\":\"y\"}},\"id\":\"1cd2fd5a-fadf-4039-9df2-a88b466a698b\",\"type\":\"Line\"},{\"attributes\":{\"data_source\":{\"id\":\"584d97a4-e40c-4996-9577-d5a1f4e3f3b3\",\"type\":\"ColumnDataSource\"},\"glyph\":{\"id\":\"08094743-bf1a-4103-92e0-6718eac2b152\",\"type\":\"Line\"},\"hover_glyph\":null,\"muted_glyph\":null,\"nonselection_glyph\":{\"id\":\"1cd2fd5a-fadf-4039-9df2-a88b466a698b\",\"type\":\"Line\"},\"selection_glyph\":null,\"view\":{\"id\":\"3775e0fe-adc7-4432-bd23-5432b15398b7\",\"type\":\"CDSView\"}},\"id\":\"33bb312f-807d-4125-9505-3e3a51ec9586\",\"type\":\"GlyphRenderer\"},{\"attributes\":{},\"id\":\"662e4f92-9f39-4c29-bcbd-00936f2c8397\",\"type\":\"BasicTickFormatter\"},{\"attributes\":{\"below\":[{\"id\":\"aa488924-588b-4792-8fd6-6247f8ce55bb\",\"type\":\"LinearAxis\"}],\"left\":[{\"id\":\"6b675ff3-b400-495e-a79e-da36925a8845\",\"type\":\"LinearAxis\"}],\"renderers\":[{\"id\":\"aa488924-588b-4792-8fd6-6247f8ce55bb\",\"type\":\"LinearAxis\"},{\"id\":\"c3ba140e-d021-41ae-93d2-945a84a43cfa\",\"type\":\"Grid\"},{\"id\":\"6b675ff3-b400-495e-a79e-da36925a8845\",\"type\":\"LinearAxis\"},{\"id\":\"6300c35e-acee-488d-816c-c61dc97cbefa\",\"type\":\"Grid\"},{\"id\":\"16404070-b1dc-462c-8676-fdbd30c0aa51\",\"type\":\"BoxAnnotation\"},{\"id\":\"61da801c-37f6-407f-9787-b5fb06068e58\",\"type\":\"Legend\"},{\"id\":\"33bb312f-807d-4125-9505-3e3a51ec9586\",\"type\":\"GlyphRenderer\"}],\"title\":{\"id\":\"d70883b7-b54e-48b5-ba31-df7462767bbe\",\"type\":\"Title\"},\"toolbar\":{\"id\":\"52e2b58c-2c72-48ee-a326-f47a805af459\",\"type\":\"Toolbar\"},\"x_range\":{\"id\":\"1bb2427f-7211-42e6-995f-f6b3fde96436\",\"type\":\"DataRange1d\"},\"x_scale\":{\"id\":\"5c36f575-124b-45e7-b2c5-66963381b14a\",\"type\":\"LinearScale\"},\"y_range\":{\"id\":\"702041a4-6ec3-4abb-8a31-6f1ead201ccf\",\"type\":\"DataRange1d\"},\"y_scale\":{\"id\":\"2bcfe567-60eb-4d08-a0d7-44cd5f87a0f8\",\"type\":\"LinearScale\"}},\"id\":\"f2e5b6e9-e865-4110-a95c-cb2be2523983\",\"subtype\":\"Figure\",\"type\":\"Plot\"},{\"attributes\":{\"active_drag\":\"auto\",\"active_inspect\":\"auto\",\"active_scroll\":\"auto\",\"active_tap\":\"auto\",\"tools\":[{\"id\":\"23e0d2e1-d5e6-4541-9e8f-f8b66e0491ef\",\"type\":\"PanTool\"},{\"id\":\"9e1d1413-50d5-4f35-b557-3196d0f00bd0\",\"type\":\"BoxZoomTool\"},{\"id\":\"03b6a4b6-0d41-4499-9070-90423fb86bef\",\"type\":\"WheelZoomTool\"},{\"id\":\"9a6b7cc3-eac4-48f6-81f9-7f5424206512\",\"type\":\"ResetTool\"},{\"id\":\"fe3aa9cd-40b0-47c0-9cab-31d9a7317eb4\",\"type\":\"SaveTool\"}]},\"id\":\"52e2b58c-2c72-48ee-a326-f47a805af459\",\"type\":\"Toolbar\"},{\"attributes\":{\"axis_label\":\"Amplitude\",\"formatter\":{\"id\":\"662e4f92-9f39-4c29-bcbd-00936f2c8397\",\"type\":\"BasicTickFormatter\"},\"plot\":{\"id\":\"f2e5b6e9-e865-4110-a95c-cb2be2523983\",\"subtype\":\"Figure\",\"type\":\"Plot\"},\"ticker\":{\"id\":\"85b83ec4-39f9-4d4b-abd4-bde7493204af\",\"type\":\"BasicTicker\"}},\"id\":\"6b675ff3-b400-495e-a79e-da36925a8845\",\"type\":\"LinearAxis\"},{\"attributes\":{},\"id\":\"79f4e4f5-1025-457a-8991-438b4115de20\",\"type\":\"BasicTickFormatter\"},{\"attributes\":{},\"id\":\"fe3aa9cd-40b0-47c0-9cab-31d9a7317eb4\",\"type\":\"SaveTool\"},{\"attributes\":{\"axis_label\":\"u\",\"formatter\":{\"id\":\"79f4e4f5-1025-457a-8991-438b4115de20\",\"type\":\"BasicTickFormatter\"},\"plot\":{\"id\":\"f2e5b6e9-e865-4110-a95c-cb2be2523983\",\"subtype\":\"Figure\",\"type\":\"Plot\"},\"ticker\":{\"id\":\"e2114f25-117e-4fd3-b755-1e15caa9c596\",\"type\":\"BasicTicker\"}},\"id\":\"aa488924-588b-4792-8fd6-6247f8ce55bb\",\"type\":\"LinearAxis\"},{\"attributes\":{\"callback\":null,\"column_names\":[\"y\",\"x\"],\"data\":{\"x\":{\"__ndarray__\":\"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\",\"dtype\":\"float64\",\"shape\":[512]},\"y\":{\"__ndarray__\":\"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\",\"dtype\":\"float64\",\"shape\":[512]}}},\"id\":\"584d97a4-e40c-4996-9577-d5a1f4e3f3b3\",\"type\":\"ColumnDataSource\"},{\"attributes\":{},\"id\":\"5c36f575-124b-45e7-b2c5-66963381b14a\",\"type\":\"LinearScale\"},{\"attributes\":{},\"id\":\"85b83ec4-39f9-4d4b-abd4-bde7493204af\",\"type\":\"BasicTicker\"},{\"attributes\":{},\"id\":\"e2114f25-117e-4fd3-b755-1e15caa9c596\",\"type\":\"BasicTicker\"},{\"attributes\":{\"items\":[{\"id\":\"4868c6aa-5da4-4789-b539-2bbf796be4d8\",\"type\":\"LegendItem\"}],\"plot\":{\"id\":\"f2e5b6e9-e865-4110-a95c-cb2be2523983\",\"subtype\":\"Figure\",\"type\":\"Plot\"}},\"id\":\"61da801c-37f6-407f-9787-b5fb06068e58\",\"type\":\"Legend\"},{\"attributes\":{\"line_color\":\"#1f77b4\",\"x\":{\"field\":\"x\"},\"y\":{\"field\":\"y\"}},\"id\":\"08094743-bf1a-4103-92e0-6718eac2b152\",\"type\":\"Line\"}],\"root_ids\":[\"f2e5b6e9-e865-4110-a95c-cb2be2523983\"]},\"title\":\"Bokeh Application\",\"version\":\"0.12.13\"}};\n",
       "  var render_items = [{\"docid\":\"b1db0f03-5f9d-4a19-b16a-0c6831e380b8\",\"elementid\":\"5a355047-2e3c-405b-ae3a-31576946f8c7\",\"modelid\":\"f2e5b6e9-e865-4110-a95c-cb2be2523983\"}];\n",
       "  root.Bokeh.embed.embed_items_notebook(docs_json, render_items);\n",
       "\n",
       "  }\n",
       "  if (root.Bokeh !== undefined) {\n",
       "    embed_document(root);\n",
       "  } else {\n",
       "    var attempts = 0;\n",
       "    var timer = setInterval(function(root) {\n",
       "      if (root.Bokeh !== undefined) {\n",
       "        embed_document(root);\n",
       "        clearInterval(timer);\n",
       "      }\n",
       "      attempts++;\n",
       "      if (attempts > 100) {\n",
       "        console.log(\"Bokeh: ERROR: Unable to run BokehJS code because BokehJS library is missing\")\n",
       "        clearInterval(timer);\n",
       "      }\n",
       "    }, 10, root)\n",
       "  }\n",
       "})(window);"
      ],
      "application/vnd.bokehjs_exec.v0+json": ""
     },
     "metadata": {
      "application/vnd.bokehjs_exec.v0+json": {
       "id": "f2e5b6e9-e865-4110-a95c-cb2be2523983"
      }
     },
     "output_type": "display_data"
    },
    {
     "name": "stdout",
     "output_type": "stream",
     "text": [
      "26.256770181613017\n"
     ]
    }
   ],
   "source": [
    "morletFT = np.fft.fft(morlet)\n",
    "morletFTsh = np.fft.fftshift(morletFT)\n",
    "\n",
    "freqsh = np.fft.fftfreq(int(N))\n",
    "freq = np.fft.fftshift(freqsh)\n",
    "\n",
    "Tools = 'pan,box_zoom,wheel_zoom,reset,save'\n",
    "f = figbok( x_axis_label=\"u\", y_axis_label=\"Amplitude\",tools=Tools)\n",
    "f.line(freq, abs(morletFTsh), legend='Scale '+np.str(a))\n",
    "\n",
    "showbok(f)\n",
    "print np.max(abs(morletFTsh))"
   ]
  },
  {
   "cell_type": "code",
   "execution_count": 34,
   "metadata": {},
   "outputs": [],
   "source": [
    "from wavan import uv_plane"
   ]
  },
  {
   "cell_type": "code",
   "execution_count": 46,
   "metadata": {},
   "outputs": [
    {
     "data": {
      "text/plain": [
       "<matplotlib.image.AxesImage at 0x1a1cfbc1d0>"
      ]
     },
     "execution_count": 46,
     "metadata": {},
     "output_type": "execute_result"
    },
    {
     "data": {
      "image/png": "[encoded data removed]",
      "text/plain": [
       "<matplotlib.figure.Figure at 0x1a1bfd7ed0>"
      ]
     },
     "metadata": {},
     "output_type": "display_data"
    }
   ],
   "source": [
    "ko= 5.336\n",
    "scl = 0.01869\n",
    "reso = 0.2333334\n",
    "a = ko / (scl*reso)\n",
    "x, y, shiftx, shifty, ishiftx, ishifty = uv_plane(763, 766)\n",
    "r = np.sqrt(x**2. + y**2.)\n",
    "\n",
    "kernel = np.exp(-.5*(r*a)**2.)\n",
    "imshow(kernel,origin='lower')"
   ]
  },
  {
   "cell_type": "code",
   "execution_count": null,
   "metadata": {},
   "outputs": [],
   "source": []
  }
 ],
 "metadata": {
  "kernelspec": {
   "display_name": "Python 3",
   "language": "python",
   "name": "python3"
  },
  "language_info": {
   "codemirror_mode": {
    "name": "ipython",
    "version": 3
   },
   "file_extension": ".py",
   "mimetype": "text/x-python",
   "name": "python",
   "nbconvert_exporter": "python",
   "pygments_lexer": "ipython3",
   "version": "3.6.7"
  }
 },
 "nbformat": 4,
 "nbformat_minor": 2
}
