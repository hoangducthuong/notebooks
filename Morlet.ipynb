{
 "cells": [
  {
   "cell_type": "markdown",
   "metadata": {},
   "source": [
    "# Morlet Wavelet"
   ]
  },
  {
   "cell_type": "markdown",
   "metadata": {},
   "source": [
    "Compare the wavelet shape between python and IDL"
   ]
  },
  {
   "cell_type": "code",
   "execution_count": 1,
   "metadata": {},
   "outputs": [
    {
     "name": "stdout",
     "output_type": "stream",
     "text": [
      "Populating the interactive namespace from numpy and matplotlib\n"
     ]
    },
    {
     "data": {
      "text/html": [
       "\n",
       "    <div class=\"bk-root\">\n",
       "        <a href=\"https://bokeh.pydata.org\" target=\"_blank\" class=\"bk-logo bk-logo-small bk-logo-notebook\"></a>\n",
       "        <span id=\"18a54435-3d83-4e9e-b61d-888343f78f1c\">Loading BokehJS ...</span>\n",
       "    </div>"
      ]
     },
     "metadata": {},
     "output_type": "display_data"
    },
    {
     "data": {
      "application/javascript": [
       "\n",
       "(function(root) {\n",
       "  function now() {\n",
       "    return new Date();\n",
       "  }\n",
       "\n",
       "  var force = true;\n",
       "\n",
       "  if (typeof (root._bokeh_onload_callbacks) === \"undefined\" || force === true) {\n",
       "    root._bokeh_onload_callbacks = [];\n",
       "    root._bokeh_is_loading = undefined;\n",
       "  }\n",
       "\n",
       "  var JS_MIME_TYPE = 'application/javascript';\n",
       "  var HTML_MIME_TYPE = 'text/html';\n",
       "  var EXEC_MIME_TYPE = 'application/vnd.bokehjs_exec.v0+json';\n",
       "  var CLASS_NAME = 'output_bokeh rendered_html';\n",
       "\n",
       "  /**\n",
       "   * Render data to the DOM node\n",
       "   */\n",
       "  function render(props, node) {\n",
       "    var script = document.createElement(\"script\");\n",
       "    node.appendChild(script);\n",
       "  }\n",
       "\n",
       "  /**\n",
       "   * Handle when an output is cleared or removed\n",
       "   */\n",
       "  function handleClearOutput(event, handle) {\n",
       "    var cell = handle.cell;\n",
       "\n",
       "    var id = cell.output_area._bokeh_element_id;\n",
       "    var server_id = cell.output_area._bokeh_server_id;\n",
       "    // Clean up Bokeh references\n",
       "    if (id !== undefined) {\n",
       "      Bokeh.index[id].model.document.clear();\n",
       "      delete Bokeh.index[id];\n",
       "    }\n",
       "\n",
       "    if (server_id !== undefined) {\n",
       "      // Clean up Bokeh references\n",
       "      var cmd = \"from bokeh.io.state import curstate; print(curstate().uuid_to_server['\" + server_id + \"'].get_sessions()[0].document.roots[0]._id)\";\n",
       "      cell.notebook.kernel.execute(cmd, {\n",
       "        iopub: {\n",
       "          output: function(msg) {\n",
       "            var element_id = msg.content.text.trim();\n",
       "            Bokeh.index[element_id].model.document.clear();\n",
       "            delete Bokeh.index[element_id];\n",
       "          }\n",
       "        }\n",
       "      });\n",
       "      // Destroy server and session\n",
       "      var cmd = \"import bokeh.io.notebook as ion; ion.destroy_server('\" + server_id + \"')\";\n",
       "      cell.notebook.kernel.execute(cmd);\n",
       "    }\n",
       "  }\n",
       "\n",
       "  /**\n",
       "   * Handle when a new output is added\n",
       "   */\n",
       "  function handleAddOutput(event, handle) {\n",
       "    var output_area = handle.output_area;\n",
       "    var output = handle.output;\n",
       "\n",
       "    // limit handleAddOutput to display_data with EXEC_MIME_TYPE content only\n",
       "    if ((output.output_type != \"display_data\") || (!output.data.hasOwnProperty(EXEC_MIME_TYPE))) {\n",
       "      return\n",
       "    }\n",
       "\n",
       "    var toinsert = output_area.element.find(\".\" + CLASS_NAME.split(' ')[0]);\n",
       "\n",
       "    if (output.metadata[EXEC_MIME_TYPE][\"id\"] !== undefined) {\n",
       "      toinsert[0].firstChild.textContent = output.data[JS_MIME_TYPE];\n",
       "      // store reference to embed id on output_area\n",
       "      output_area._bokeh_element_id = output.metadata[EXEC_MIME_TYPE][\"id\"];\n",
       "    }\n",
       "    if (output.metadata[EXEC_MIME_TYPE][\"server_id\"] !== undefined) {\n",
       "      var bk_div = document.createElement(\"div\");\n",
       "      bk_div.innerHTML = output.data[HTML_MIME_TYPE];\n",
       "      var script_attrs = bk_div.children[0].attributes;\n",
       "      for (var i = 0; i < script_attrs.length; i++) {\n",
       "        toinsert[0].firstChild.setAttribute(script_attrs[i].name, script_attrs[i].value);\n",
       "      }\n",
       "      // store reference to server id on output_area\n",
       "      output_area._bokeh_server_id = output.metadata[EXEC_MIME_TYPE][\"server_id\"];\n",
       "    }\n",
       "  }\n",
       "\n",
       "  function register_renderer(events, OutputArea) {\n",
       "\n",
       "    function append_mime(data, metadata, element) {\n",
       "      // create a DOM node to render to\n",
       "      var toinsert = this.create_output_subarea(\n",
       "        metadata,\n",
       "        CLASS_NAME,\n",
       "        EXEC_MIME_TYPE\n",
       "      );\n",
       "      this.keyboard_manager.register_events(toinsert);\n",
       "      // Render to node\n",
       "      var props = {data: data, metadata: metadata[EXEC_MIME_TYPE]};\n",
       "      render(props, toinsert[0]);\n",
       "      element.append(toinsert);\n",
       "      return toinsert\n",
       "    }\n",
       "\n",
       "    /* Handle when an output is cleared or removed */\n",
       "    events.on('clear_output.CodeCell', handleClearOutput);\n",
       "    events.on('delete.Cell', handleClearOutput);\n",
       "\n",
       "    /* Handle when a new output is added */\n",
       "    events.on('output_added.OutputArea', handleAddOutput);\n",
       "\n",
       "    /**\n",
       "     * Register the mime type and append_mime function with output_area\n",
       "     */\n",
       "    OutputArea.prototype.register_mime_type(EXEC_MIME_TYPE, append_mime, {\n",
       "      /* Is output safe? */\n",
       "      safe: true,\n",
       "      /* Index of renderer in `output_area.display_order` */\n",
       "      index: 0\n",
       "    });\n",
       "  }\n",
       "\n",
       "  // register the mime type if in Jupyter Notebook environment and previously unregistered\n",
       "  if (root.Jupyter !== undefined) {\n",
       "    var events = require('base/js/events');\n",
       "    var OutputArea = require('notebook/js/outputarea').OutputArea;\n",
       "\n",
       "    if (OutputArea.prototype.mime_types().indexOf(EXEC_MIME_TYPE) == -1) {\n",
       "      register_renderer(events, OutputArea);\n",
       "    }\n",
       "  }\n",
       "\n",
       "  \n",
       "  if (typeof (root._bokeh_timeout) === \"undefined\" || force === true) {\n",
       "    root._bokeh_timeout = Date.now() + 5000;\n",
       "    root._bokeh_failed_load = false;\n",
       "  }\n",
       "\n",
       "  var NB_LOAD_WARNING = {'data': {'text/html':\n",
       "     \"<div style='background-color: #fdd'>\\n\"+\n",
       "     \"<p>\\n\"+\n",
       "     \"BokehJS does not appear to have successfully loaded. If loading BokehJS from CDN, this \\n\"+\n",
       "     \"may be due to a slow or bad network connection. Possible fixes:\\n\"+\n",
       "     \"</p>\\n\"+\n",
       "     \"<ul>\\n\"+\n",
       "     \"<li>re-rerun `output_notebook()` to attempt to load from CDN again, or</li>\\n\"+\n",
       "     \"<li>use INLINE resources instead, as so:</li>\\n\"+\n",
       "     \"</ul>\\n\"+\n",
       "     \"<code>\\n\"+\n",
       "     \"from bokeh.resources import INLINE\\n\"+\n",
       "     \"output_notebook(resources=INLINE)\\n\"+\n",
       "     \"</code>\\n\"+\n",
       "     \"</div>\"}};\n",
       "\n",
       "  function display_loaded() {\n",
       "    var el = document.getElementById(\"18a54435-3d83-4e9e-b61d-888343f78f1c\");\n",
       "    if (el != null) {\n",
       "      el.textContent = \"BokehJS is loading...\";\n",
       "    }\n",
       "    if (root.Bokeh !== undefined) {\n",
       "      if (el != null) {\n",
       "        el.textContent = \"BokehJS \" + root.Bokeh.version + \" successfully loaded.\";\n",
       "      }\n",
       "    } else if (Date.now() < root._bokeh_timeout) {\n",
       "      setTimeout(display_loaded, 100)\n",
       "    }\n",
       "  }\n",
       "\n",
       "\n",
       "  function run_callbacks() {\n",
       "    try {\n",
       "      root._bokeh_onload_callbacks.forEach(function(callback) { callback() });\n",
       "    }\n",
       "    finally {\n",
       "      delete root._bokeh_onload_callbacks\n",
       "    }\n",
       "    console.info(\"Bokeh: all callbacks have finished\");\n",
       "  }\n",
       "\n",
       "  function load_libs(js_urls, callback) {\n",
       "    root._bokeh_onload_callbacks.push(callback);\n",
       "    if (root._bokeh_is_loading > 0) {\n",
       "      console.log(\"Bokeh: BokehJS is being loaded, scheduling callback at\", now());\n",
       "      return null;\n",
       "    }\n",
       "    if (js_urls == null || js_urls.length === 0) {\n",
       "      run_callbacks();\n",
       "      return null;\n",
       "    }\n",
       "    console.log(\"Bokeh: BokehJS not loaded, scheduling load and callback at\", now());\n",
       "    root._bokeh_is_loading = js_urls.length;\n",
       "    for (var i = 0; i < js_urls.length; i++) {\n",
       "      var url = js_urls[i];\n",
       "      var s = document.createElement('script');\n",
       "      s.src = url;\n",
       "      s.async = false;\n",
       "      s.onreadystatechange = s.onload = function() {\n",
       "        root._bokeh_is_loading--;\n",
       "        if (root._bokeh_is_loading === 0) {\n",
       "          console.log(\"Bokeh: all BokehJS libraries loaded\");\n",
       "          run_callbacks()\n",
       "        }\n",
       "      };\n",
       "      s.onerror = function() {\n",
       "        console.warn(\"failed to load library \" + url);\n",
       "      };\n",
       "      console.log(\"Bokeh: injecting script tag for BokehJS library: \", url);\n",
       "      document.getElementsByTagName(\"head\")[0].appendChild(s);\n",
       "    }\n",
       "  };var element = document.getElementById(\"18a54435-3d83-4e9e-b61d-888343f78f1c\");\n",
       "  if (element == null) {\n",
       "    console.log(\"Bokeh: ERROR: autoload.js configured with elementid '18a54435-3d83-4e9e-b61d-888343f78f1c' but no matching script tag was found. \")\n",
       "    return false;\n",
       "  }\n",
       "\n",
       "  var js_urls = [\"https://cdn.pydata.org/bokeh/release/bokeh-0.12.14.min.js\", \"https://cdn.pydata.org/bokeh/release/bokeh-widgets-0.12.14.min.js\", \"https://cdn.pydata.org/bokeh/release/bokeh-tables-0.12.14.min.js\", \"https://cdn.pydata.org/bokeh/release/bokeh-gl-0.12.14.min.js\"];\n",
       "\n",
       "  var inline_js = [\n",
       "    function(Bokeh) {\n",
       "      Bokeh.set_log_level(\"info\");\n",
       "    },\n",
       "    \n",
       "    function(Bokeh) {\n",
       "      \n",
       "    },\n",
       "    function(Bokeh) {\n",
       "      console.log(\"Bokeh: injecting CSS: https://cdn.pydata.org/bokeh/release/bokeh-0.12.14.min.css\");\n",
       "      Bokeh.embed.inject_css(\"https://cdn.pydata.org/bokeh/release/bokeh-0.12.14.min.css\");\n",
       "      console.log(\"Bokeh: injecting CSS: https://cdn.pydata.org/bokeh/release/bokeh-widgets-0.12.14.min.css\");\n",
       "      Bokeh.embed.inject_css(\"https://cdn.pydata.org/bokeh/release/bokeh-widgets-0.12.14.min.css\");\n",
       "      console.log(\"Bokeh: injecting CSS: https://cdn.pydata.org/bokeh/release/bokeh-tables-0.12.14.min.css\");\n",
       "      Bokeh.embed.inject_css(\"https://cdn.pydata.org/bokeh/release/bokeh-tables-0.12.14.min.css\");\n",
       "    }\n",
       "  ];\n",
       "\n",
       "  function run_inline_js() {\n",
       "    \n",
       "    if ((root.Bokeh !== undefined) || (force === true)) {\n",
       "      for (var i = 0; i < inline_js.length; i++) {\n",
       "        inline_js[i].call(root, root.Bokeh);\n",
       "      }if (force === true) {\n",
       "        display_loaded();\n",
       "      }} else if (Date.now() < root._bokeh_timeout) {\n",
       "      setTimeout(run_inline_js, 100);\n",
       "    } else if (!root._bokeh_failed_load) {\n",
       "      console.log(\"Bokeh: BokehJS failed to load within specified timeout.\");\n",
       "      root._bokeh_failed_load = true;\n",
       "    } else if (force !== true) {\n",
       "      var cell = $(document.getElementById(\"18a54435-3d83-4e9e-b61d-888343f78f1c\")).parents('.cell').data().cell;\n",
       "      cell.output_area.append_execute_result(NB_LOAD_WARNING)\n",
       "    }\n",
       "\n",
       "  }\n",
       "\n",
       "  if (root._bokeh_is_loading === 0) {\n",
       "    console.log(\"Bokeh: BokehJS loaded, going straight to plotting\");\n",
       "    run_inline_js();\n",
       "  } else {\n",
       "    load_libs(js_urls, function() {\n",
       "      console.log(\"Bokeh: BokehJS plotting callback run at\", now());\n",
       "      run_inline_js();\n",
       "    });\n",
       "  }\n",
       "}(window));"
      ],
      "application/vnd.bokehjs_load.v0+json": "\n(function(root) {\n  function now() {\n    return new Date();\n  }\n\n  var force = true;\n\n  if (typeof (root._bokeh_onload_callbacks) === \"undefined\" || force === true) {\n    root._bokeh_onload_callbacks = [];\n    root._bokeh_is_loading = undefined;\n  }\n\n  \n\n  \n  if (typeof (root._bokeh_timeout) === \"undefined\" || force === true) {\n    root._bokeh_timeout = Date.now() + 5000;\n    root._bokeh_failed_load = false;\n  }\n\n  var NB_LOAD_WARNING = {'data': {'text/html':\n     \"<div style='background-color: #fdd'>\\n\"+\n     \"<p>\\n\"+\n     \"BokehJS does not appear to have successfully loaded. If loading BokehJS from CDN, this \\n\"+\n     \"may be due to a slow or bad network connection. Possible fixes:\\n\"+\n     \"</p>\\n\"+\n     \"<ul>\\n\"+\n     \"<li>re-rerun `output_notebook()` to attempt to load from CDN again, or</li>\\n\"+\n     \"<li>use INLINE resources instead, as so:</li>\\n\"+\n     \"</ul>\\n\"+\n     \"<code>\\n\"+\n     \"from bokeh.resources import INLINE\\n\"+\n     \"output_notebook(resources=INLINE)\\n\"+\n     \"</code>\\n\"+\n     \"</div>\"}};\n\n  function display_loaded() {\n    var el = document.getElementById(\"18a54435-3d83-4e9e-b61d-888343f78f1c\");\n    if (el != null) {\n      el.textContent = \"BokehJS is loading...\";\n    }\n    if (root.Bokeh !== undefined) {\n      if (el != null) {\n        el.textContent = \"BokehJS \" + root.Bokeh.version + \" successfully loaded.\";\n      }\n    } else if (Date.now() < root._bokeh_timeout) {\n      setTimeout(display_loaded, 100)\n    }\n  }\n\n\n  function run_callbacks() {\n    try {\n      root._bokeh_onload_callbacks.forEach(function(callback) { callback() });\n    }\n    finally {\n      delete root._bokeh_onload_callbacks\n    }\n    console.info(\"Bokeh: all callbacks have finished\");\n  }\n\n  function load_libs(js_urls, callback) {\n    root._bokeh_onload_callbacks.push(callback);\n    if (root._bokeh_is_loading > 0) {\n      console.log(\"Bokeh: BokehJS is being loaded, scheduling callback at\", now());\n      return null;\n    }\n    if (js_urls == null || js_urls.length === 0) {\n      run_callbacks();\n      return null;\n    }\n    console.log(\"Bokeh: BokehJS not loaded, scheduling load and callback at\", now());\n    root._bokeh_is_loading = js_urls.length;\n    for (var i = 0; i < js_urls.length; i++) {\n      var url = js_urls[i];\n      var s = document.createElement('script');\n      s.src = url;\n      s.async = false;\n      s.onreadystatechange = s.onload = function() {\n        root._bokeh_is_loading--;\n        if (root._bokeh_is_loading === 0) {\n          console.log(\"Bokeh: all BokehJS libraries loaded\");\n          run_callbacks()\n        }\n      };\n      s.onerror = function() {\n        console.warn(\"failed to load library \" + url);\n      };\n      console.log(\"Bokeh: injecting script tag for BokehJS library: \", url);\n      document.getElementsByTagName(\"head\")[0].appendChild(s);\n    }\n  };var element = document.getElementById(\"18a54435-3d83-4e9e-b61d-888343f78f1c\");\n  if (element == null) {\n    console.log(\"Bokeh: ERROR: autoload.js configured with elementid '18a54435-3d83-4e9e-b61d-888343f78f1c' but no matching script tag was found. \")\n    return false;\n  }\n\n  var js_urls = [\"https://cdn.pydata.org/bokeh/release/bokeh-0.12.14.min.js\", \"https://cdn.pydata.org/bokeh/release/bokeh-widgets-0.12.14.min.js\", \"https://cdn.pydata.org/bokeh/release/bokeh-tables-0.12.14.min.js\", \"https://cdn.pydata.org/bokeh/release/bokeh-gl-0.12.14.min.js\"];\n\n  var inline_js = [\n    function(Bokeh) {\n      Bokeh.set_log_level(\"info\");\n    },\n    \n    function(Bokeh) {\n      \n    },\n    function(Bokeh) {\n      console.log(\"Bokeh: injecting CSS: https://cdn.pydata.org/bokeh/release/bokeh-0.12.14.min.css\");\n      Bokeh.embed.inject_css(\"https://cdn.pydata.org/bokeh/release/bokeh-0.12.14.min.css\");\n      console.log(\"Bokeh: injecting CSS: https://cdn.pydata.org/bokeh/release/bokeh-widgets-0.12.14.min.css\");\n      Bokeh.embed.inject_css(\"https://cdn.pydata.org/bokeh/release/bokeh-widgets-0.12.14.min.css\");\n      console.log(\"Bokeh: injecting CSS: https://cdn.pydata.org/bokeh/release/bokeh-tables-0.12.14.min.css\");\n      Bokeh.embed.inject_css(\"https://cdn.pydata.org/bokeh/release/bokeh-tables-0.12.14.min.css\");\n    }\n  ];\n\n  function run_inline_js() {\n    \n    if ((root.Bokeh !== undefined) || (force === true)) {\n      for (var i = 0; i < inline_js.length; i++) {\n        inline_js[i].call(root, root.Bokeh);\n      }if (force === true) {\n        display_loaded();\n      }} else if (Date.now() < root._bokeh_timeout) {\n      setTimeout(run_inline_js, 100);\n    } else if (!root._bokeh_failed_load) {\n      console.log(\"Bokeh: BokehJS failed to load within specified timeout.\");\n      root._bokeh_failed_load = true;\n    } else if (force !== true) {\n      var cell = $(document.getElementById(\"18a54435-3d83-4e9e-b61d-888343f78f1c\")).parents('.cell').data().cell;\n      cell.output_area.append_execute_result(NB_LOAD_WARNING)\n    }\n\n  }\n\n  if (root._bokeh_is_loading === 0) {\n    console.log(\"Bokeh: BokehJS loaded, going straight to plotting\");\n    run_inline_js();\n  } else {\n    load_libs(js_urls, function() {\n      console.log(\"Bokeh: BokehJS plotting callback run at\", now());\n      run_inline_js();\n    });\n  }\n}(window));"
     },
     "metadata": {},
     "output_type": "display_data"
    }
   ],
   "source": [
    "%pylab inline\n",
    "from bokeh.plotting import figure as figbok\n",
    "from bokeh.io import output_notebook\n",
    "from bokeh.io import show as showbok\n",
    "output_notebook()"
   ]
  },
  {
   "cell_type": "markdown",
   "metadata": {},
   "source": [
    "## In Fourier space"
   ]
  },
  {
   "cell_type": "code",
   "execution_count": 218,
   "metadata": {},
   "outputs": [
    {
     "data": {
      "text/html": [
       "\n",
       "<div class=\"bk-root\">\n",
       "    <div class=\"bk-plotdiv\" id=\"e7b16735-786b-48ee-ab8b-1c2b4b5faa05\"></div>\n",
       "</div>"
      ]
     },
     "metadata": {},
     "output_type": "display_data"
    },
    {
     "data": {
      "application/javascript": [
       "(function(root) {\n",
       "  function embed_document(root) {\n",
       "    \n",
       "  var docs_json = {\"c3c86680-cf49-43fe-b9d3-12698eb03e15\":{\"roots\":{\"references\":[{\"attributes\":{},\"id\":\"cea4ecdc-4fd5-4576-b32f-e43d566514d4\",\"type\":\"SaveTool\"},{\"attributes\":{\"active_drag\":\"auto\",\"active_inspect\":\"auto\",\"active_scroll\":\"auto\",\"active_tap\":\"auto\",\"tools\":[{\"id\":\"7519b266-b732-4ef9-9f56-4479cb169cdf\",\"type\":\"PanTool\"},{\"id\":\"a86dd5c9-edfc-4adb-9818-d15758129fd0\",\"type\":\"BoxZoomTool\"},{\"id\":\"e27d0b45-9d23-4854-908c-e6745958e490\",\"type\":\"WheelZoomTool\"},{\"id\":\"6ceac3f5-1310-49ff-a21e-0339e544bfd6\",\"type\":\"ResetTool\"},{\"id\":\"cea4ecdc-4fd5-4576-b32f-e43d566514d4\",\"type\":\"SaveTool\"}]},\"id\":\"6ba392e7-1218-4832-b20d-5229cd109bf6\",\"type\":\"Toolbar\"},{\"attributes\":{\"plot\":null,\"text\":\"\"},\"id\":\"c8846ba8-ddc4-4955-b09b-c37c98a67f13\",\"type\":\"Title\"},{\"attributes\":{\"axis_label\":\"Amplitude\",\"formatter\":{\"id\":\"9e09d3f9-3f0a-4329-9962-d3aeab34be05\",\"type\":\"BasicTickFormatter\"},\"plot\":{\"id\":\"bc7fc4c5-4410-4c0c-b959-83c4f395759e\",\"subtype\":\"Figure\",\"type\":\"Plot\"},\"ticker\":{\"id\":\"430e57a5-e30e-4427-995d-229cd6e99d1c\",\"type\":\"BasicTicker\"}},\"id\":\"a97807e5-fcb4-4753-8306-8b805fceb1bb\",\"type\":\"LinearAxis\"},{\"attributes\":{\"axis_label\":\"x\",\"formatter\":{\"id\":\"1f6df0f7-bbb3-4f0e-b4f1-942858b674cb\",\"type\":\"BasicTickFormatter\"},\"plot\":{\"id\":\"bc7fc4c5-4410-4c0c-b959-83c4f395759e\",\"subtype\":\"Figure\",\"type\":\"Plot\"},\"ticker\":{\"id\":\"f7db0a8b-d5b9-432c-95ec-42ee23251ed7\",\"type\":\"BasicTicker\"}},\"id\":\"e3047f90-3119-437f-8396-f28cba639798\",\"type\":\"LinearAxis\"},{\"attributes\":{\"line_color\":\"#1f77b4\",\"x\":{\"field\":\"x\"},\"y\":{\"field\":\"y\"}},\"id\":\"b234e14c-8ece-4c9f-b58c-5c4a8b271114\",\"type\":\"Line\"},{\"attributes\":{\"callback\":null},\"id\":\"1685b642-40ae-41b7-a742-dda69bdc76e4\",\"type\":\"DataRange1d\"},{\"attributes\":{},\"id\":\"430e57a5-e30e-4427-995d-229cd6e99d1c\",\"type\":\"BasicTicker\"},{\"attributes\":{\"plot\":{\"id\":\"bc7fc4c5-4410-4c0c-b959-83c4f395759e\",\"subtype\":\"Figure\",\"type\":\"Plot\"},\"ticker\":{\"id\":\"f7db0a8b-d5b9-432c-95ec-42ee23251ed7\",\"type\":\"BasicTicker\"}},\"id\":\"8a7c89a3-a24c-4032-b743-c86bb2a43358\",\"type\":\"Grid\"},{\"attributes\":{\"dimension\":1,\"plot\":{\"id\":\"bc7fc4c5-4410-4c0c-b959-83c4f395759e\",\"subtype\":\"Figure\",\"type\":\"Plot\"},\"ticker\":{\"id\":\"430e57a5-e30e-4427-995d-229cd6e99d1c\",\"type\":\"BasicTicker\"}},\"id\":\"c7521a8b-2195-4c17-bec1-5f0097ca7076\",\"type\":\"Grid\"},{\"attributes\":{},\"id\":\"7519b266-b732-4ef9-9f56-4479cb169cdf\",\"type\":\"PanTool\"},{\"attributes\":{},\"id\":\"6b471b1c-108e-40b7-89f3-19f8a73bc478\",\"type\":\"LinearScale\"},{\"attributes\":{\"items\":[{\"id\":\"5af0b915-f082-4246-a002-42aff68ce630\",\"type\":\"LegendItem\"}],\"plot\":{\"id\":\"bc7fc4c5-4410-4c0c-b959-83c4f395759e\",\"subtype\":\"Figure\",\"type\":\"Plot\"}},\"id\":\"8f3fce39-382b-4007-b539-ed2463200ee6\",\"type\":\"Legend\"},{\"attributes\":{\"data_source\":{\"id\":\"6b7b1738-2246-41bb-ac95-d341011cfa5a\",\"type\":\"ColumnDataSource\"},\"glyph\":{\"id\":\"b234e14c-8ece-4c9f-b58c-5c4a8b271114\",\"type\":\"Line\"},\"hover_glyph\":null,\"muted_glyph\":null,\"nonselection_glyph\":{\"id\":\"79c3f7a0-abf5-4206-b06e-f371a28ca557\",\"type\":\"Line\"},\"selection_glyph\":null,\"view\":{\"id\":\"b72d2b94-8773-4592-8fa5-7995519948f1\",\"type\":\"CDSView\"}},\"id\":\"9cdd38d9-4036-446c-a10c-5032fa7c510b\",\"type\":\"GlyphRenderer\"},{\"attributes\":{},\"id\":\"9e09d3f9-3f0a-4329-9962-d3aeab34be05\",\"type\":\"BasicTickFormatter\"},{\"attributes\":{\"label\":{\"value\":\"Scale 50.0\"},\"renderers\":[{\"id\":\"9cdd38d9-4036-446c-a10c-5032fa7c510b\",\"type\":\"GlyphRenderer\"}]},\"id\":\"5af0b915-f082-4246-a002-42aff68ce630\",\"type\":\"LegendItem\"},{\"attributes\":{\"callback\":null,\"column_names\":[\"y\",\"x\"],\"data\":{\"x\":{\"__ndarray__\":\"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\",\"dtype\":\"float64\",\"shape\":[512]},\"y\":{\"__ndarray__\":\"AAAAAAAAAAAAAAAAAAAAAAAAAAAAAAAAAAAAAAAAAAAAAAAAAAAAAAAAAAAAAAAAAAAAAAAAAAAAAAAAAAAAAAAAAAAAAAAAAAAAAAAAAAAAAAAAAAAAAAAAAAAAAAAAAAAAAAAAAAAAAAAAAAAAAAAAAAAAAAAAAAAAAAAAAAAAAAAAAAAAAAAAAAAAAAAAAAAAAAAAAAAAAAAAAAAAAAAAAAAAAAAAAAAAAAAAAAAAAAAAAAAAAAAAAAAAAAAAAAAAAAAAAAAAAAAAAAAAAAAAAAAAAAAAAAAAAAAAAAAAAAAAAAAAAAAAAAAAAAAAAAAAAAAAAAAAAAAAAAAAAAAAAAAAAAAAAAAAAAAAAAAAAAAAAAAAAAAAAAAAAAAAAAAAAAAAAAAAAAAAAAAAAAAAAAAAAAAAAAAAAAAAAAAAAAAAAAAAAAAAAAAAAAAAAAAAAAAAAAAAAAAAAAAAAAAAAAAAAAAAAAAAAAAAAAAAAAAAAAAAAAAAAAAAAAAAAAAAAAAAAAAAAAAAAAAAAAAAAAAAAAAAAAAAAAAAAAAAAAAAAAAAAAAAAAAAAAAAAAAAAAAAAAAAAAAAAAAAAAAAAAAAAAAAAAAAAAAAAAAAAAAAAAAAAAAAAAAAAAAAAAAAAAAAAAAAAAAAAAAAAAAAAAAAAAAAAAAAAAAAAAAAAAAAAAAAAAAAAAAAAAAAAAAAAAAAAAAAAAAAAAAAAAAAAAAAAAAAAAAAAAAAAAAAAAAAAAAAAAAAAAAAAAAAAAAAAAAAAAAAAAAAAAAAAAAAAAAAAAAAAAAAAAAAAAAAAAAAAAAAAAAAAAAAAAAAAAAAAAAAAAAAAAAAAAAAAAAAAAAAAAAAAAAAAAAAAAAAAAAAAAAAAAAAAAAAAAAAAAAAAAAAAAAAAAAAAAAAAAAAAAAAAAAAAAAAAAAAAAAAAAAAAAAAAAAAAAAAAAAAAAAAAAAAAAAAAAAAAAAAAAAAAAAAAAAAAAAAAAAAAAAAAAAAAAAAAAAAAAAAAAAAAAAAAAAAAAAAAAAAAAAAAAAAAAAAAAAAAAAAAAAAAAAAAAAAAAAAAAAAAAAAAAAAAAAAAAAAAAAAAAAAAAAAAAAAAAAAAAAAAAAAAAAAAAAAAAAAAAAAAAAAAAAAAAAAAAAAAAAAAAAAAAAAAAAAAAAAAAAAAAAAAAAAAAAAAAAAAAAAAAAAAAAAAAAAAAAAAAAAAAAAAAAAAAAAAAAAAAAAAAAAAAAAAAAAAAAAAAAAAAAAAAAAAAAAAAAAAAAAAAAAAAAAAAAAAAAAAAAAAAAAAAAAAAAAAAAAAAAAAAAAAAAAAAAAAAAAAAAAAAAAAAAAAAAAAAAAAAAAAAAAAAAAAAAAAAAAAAAAAAAAAAAAAAAAAAAAAAAAAAAAAAAAAAAAAAAAAAAAAAAAAAAAAAAAAAAAAAAAAAAAAAAAAAAAAAAAAAAAAAAAAAAAAAAAAAAAAAAAAAAAAAAAAAAAAAAAAAAAAAAAAAAAAAAAAAAAAAAAAAAAAAAAAAAAAAAAAAAAAAAAAAAAAAAAAAAAAAAAAAAAAAAAAAAAAAAAAAAAAAAAAAAAAAAAAAAAAAAAAAAAAAAAAAAAAAAAAAAAAAAAAAAAAAAAAAAAAAAAAAAAAAAAAAAAAAAAAAAAAAAAAAAAAAAAAAAAAAAAAAAAAAAAAAAAAAAAAAAAAAAAAAAAAAAAAAAAAAAAAAAAAAAAAAAAAAAAAAAAAAAAAAAAAAAAAAAAAAAAAAAAAAAAAAAAAAAAAAAAAAAAAAAAAAAAAAAAAAAAAAAAAAAAAAAAAAAAAAAAAAAAAAAAAAAAAAAAAAAAAAAAAAAAAAAAAAAAAAAAAAAAAAAAAAAAAAAAAAAAAAAAAAAAAAAAAAAAAAAAAAAAAAAAAAAAAAAAAAAAAAAAAAAAAAAAAAAAAAAAAAAAAAAAAAAAAAAAAAAAAAAAAAAAAAAAAAAAAAAAAAAAAAAAAAAAAAAAAAAAAAAAAAAAAAAAAAAAAAAAAAAAAAAAAAAAAAAAAAAAAAAAAAAAeDrWpQAAAACJ17WlqTqNAMr+1WfOaU8Czs0aVIq7CQTIDezDDxHABY+t/qaYlW4HwQ5E6BgwFglHad/tqIm4Cqyh2+/9rlQMHg5GbeiT6g1tTrMG1Ad6D3wPxBejbgMRND1yAxsdhhKrcNstXC4DFI2Zmh+8XHkVNpQE8I+P6RYZo4LSlaJTGPvSDwow/rYZF/QGyrmFFBst2294TexrHHQvvf5I9bwdbHXoL+jjBh8akMcpHJVLIByMs+FCVYkhWx1Pn/u7wSJ3dwDF4ezyI7G6XLWZyR4l1JyQH2MWQyZ5wgRGGgpiJ+BrGR1e/XkoHMJO1jOKjCnRxZuwP+OXKqzbOBOXep4ryNZbeiWknSzsYTNkxfiVLTzJLlbj04guTPvNpDBidS/4k22lTBNcMNCGZ9yQGDwxgnLefjtuFTKQGy5cNevoMp7KsWyvFbYzduVYwFXWfTSslc8mtrk+NV2S+/DBHfg1MY75ZuvarDatFyrvu1BaN0q/q4nSSgI4mznzeyFiozijzZmjgU8/OfgtFhtrRtM51wf806kWYjrEiHBlfuDpOjqpfopHN2w779Yg6kZz5zvWVlply7VdPFidlcGusMw8bPwBnvgdNT1e0ZDqo7GXPb6pmcZsQ/Q9l4Bsg9dqSj4Cyt8QJkCaPpMyMvrM4eM+YMm5XZX0Jj+zxh1+jjNkP31KmBzFGZs/W4HbMP61yz9WylZ61pj1P0CehEOyqBlAU400elo8N0BrSv2usQlQQFcDpQLz32BAQzz4ugkRa0BpnHX9i4twQPr2L0So1W5ALQ17oHfmZUCiOdicMbZXQBb1MVhtkUNAwG4aYPadKEAbWD0pxJoHQFY6v2tlQOE/4lJRcWw4sz/WdlloZFKAPzgGIbwDIUU/MbK6vAbZBD8pX86ji1u/Psu4ZnqY+XE+xBkt3gpqHz7C1KbuUezEPZpAHz5fPmU9FI3sPahwAD12IYpxA2WTPJ2ZG193cCE88+ua6pHnpzvl5uz+lfkoOyoNV8tv46M6gwCn/LUkGDpN8SHC2VaGORb9OdFtgu84kFB8gRHwUDhnMyM9S8KrN6qTDCN2VgE37/a7RfKBUDacaB/oofWXNRYY25qHgdo0aDVQ06hZFjSMcjeCqLpMM4sqkyuvJXwy6QPhJvcEpTE0xtEyle3HMFOWh0gLw+QvS1Jn3DZ2+y4C1V5jp68LLlMrGKdjRhUtVJ3shfLrGCzEMY5BXUAWK326bKsxSQ4qTozhB1Rr/yi3J7G3FtjoJ0KG2V5s8s0mQJs1f5mDqyV1f7HchESDJE0RCg2RkVQjibwntm+8ICL8jkj2R8LkICS0YDA1oKMfcpq14edIXB6ERArIFhIPHbiYwhHJA7obRHrlayGaYBrxdSJjuSYAGez03yHf85cXCeeJ/UATKxZcKDAqxFO3FPZprOQ/oz4TXqvhFKmrvhFFZjmv/2Y3EJB28YR/OKsOAbkyrwwiGA1EVSUuzU6AC3rI4ASJzOAJs7mjbjphOgi+OI8NAJOPBiFuGm8MztwETTlQDJIHJAOkJUcAQDtlAftMe7tOIgAAq1EBAAAAAAAAAAAAAAAAAAAAAAAAAAAAAAAAAAAAAAAAAAAAAAAAAAAAAAAAAAAAAAAAAAAAAAAAAAAAAAAAAAAAAAAAAAAAAAAAAAAAAAAAAAAAAAAAAAAAAAAAAAAAAAAAAAAAAAAAAAAAAAAAAAAAAAAAAAAAAAAAAAAAAAAAAAAAAAAAAAAAAAAAAAAAAAAAAAAAAAAAAAAAAAAAAAAAAAAAAAAAAAAAAAAAAAAAAAAAAAAAAAAAAAAAAAAAAAAAAAAAAAAAAAAAAAAAAAAAAAAAAAAAAAAAAAAAAAAAAAAAAAAAAAAAAAAAAAAAAAAAAAAAAAAAAAAAAAAAAAAAAAAAAAAAAAAAAAAAAAAAAAAAAAAAAAAAAAAAAAAAAAAAAAAAAAAAAAAAAAAAAAAAAAAAAAAAAAAAAAAAAAAAAAAAAAAAAAAAAAAAAAAAAAAAAAAAAAAAAAAAAAAAAAAAAAAAAAAAAAAAAAAAAAAAAAAAAAAAAAAAAAAAAAAAAAAAAAAAAAAAAAAAAAAAAAAAAAAAAAAAAAAAAAAAAAAAAAAAAAAAAAAAAAAAAAAAAAAAAAAAAAAAAAAAAAAAAAAAAAAAAAAAAAAAAAAAAAAAAAAAAAAAAAAAAAAAAAAAAAAAAAAAAAAAAAAAAAAAAAAAAAAAAAAAAAAAAAAAAAAAAAAAAAAAAAAAAAAAAAAAAAAAAAAAAAAAAAAAAAAAAAAAAAAAAAAAAAAAAAAAAAAAAAAAAAAAAAAAAAAAAAAAAAAAAAAAAAAAAAAAAAAAAAAAAAAAAAAAAAAAAAAAAAAAAAAAAAAAAAAAAAAAAAAAAAAAAAAAAAAAAAAAAAAAAAAAAAAAAAAAAAAAAAAAAAAAAAAAAAAAAAAAAAAAAAAAAAAAAAAAAAAAAAAAAAAAAAAAAAAAAAAAAAAAAAAAAAAAAAAAAAAAAAAAAAAAAAAAAAAAAAAAAAAAAAAAAAAAAAAAAAAAAAAAAAAAAAAAAAAAAAAAAAAAAAAAAAAAAAAAAAAAAAAAAAAAAAAAAAAAAAAAAAAAAAAAAAAAAAAAAAAAAAAAAAAAAAAAAAAAAAAAAAAAAAAAAAAAAAAAAAAAAAAAAAAAAAAAAAAAAAAAAAAAAAAAAAAAAAAAAAAAAAAAAAAAAAAAAAAAAAAAAAAAAAAAAAAAAAAAAAAAAAAAAAAAAAAAAAAAAAAAAAAAAAAAAAAAAAAAAAAAAAAAAAAAAAAAAAAAAAAAAAAAAAAAAAAAAAAAAAAAAAAAAAAAAAAAAAAAAAAAAAAAAAAAAAAAAAAAAAAAAAAAAAAAAAAAAAAAAAAAAAAAAAAAAAAAAAAAAAAAAAAAAAAAAAAAAAAAAAAAAAAAAAAAAAAAAAAAAAAAAAAAAAAAAAAAAAAAAAAAAAAAAAAAAAAAAAAAAAAAAAAAAAAAAAAAAAAAAAAAAAAAAAAAAAAAAAAAAAAAAAAAAAAAAAAAAAAAAAAAAAAAAAAAAAAAAAAAAAAAAAAAAAAAAAAAAAAAAAAAAAAAAAAAAAAAAAAAAAAAAAAAAAAAAAAAAAAAAAAAAAAAAAAAAAAAAAAAAAAAAAAAAAAAAAAAAAAAAAAAAAAAAAAAAAAAAAAAAAAAAAAAAAAAAAAAAAAAAAAAAAAAAAAAAAAAAAAAAAAAAAAAAAAAAAAAAAAAAAAAAAAAAAAAAAAAAAAAAAAAAAAAAAAAAAAAAAAAAAAAAAAAAAAAAAAAAAAAAAAAAAAAAAAAAAAAAAAAAAAAAAAAAAAAAAAAAAAAAAAAAAAAAAAAAAAAAAAAAAAAAAAAAAAAAAAAAAAAAAAAAAAAAAAAAAAAAAAAAA==\",\"dtype\":\"float64\",\"shape\":[512]}}},\"id\":\"6b7b1738-2246-41bb-ac95-d341011cfa5a\",\"type\":\"ColumnDataSource\"},{\"attributes\":{\"below\":[{\"id\":\"e3047f90-3119-437f-8396-f28cba639798\",\"type\":\"LinearAxis\"}],\"left\":[{\"id\":\"a97807e5-fcb4-4753-8306-8b805fceb1bb\",\"type\":\"LinearAxis\"}],\"renderers\":[{\"id\":\"e3047f90-3119-437f-8396-f28cba639798\",\"type\":\"LinearAxis\"},{\"id\":\"8a7c89a3-a24c-4032-b743-c86bb2a43358\",\"type\":\"Grid\"},{\"id\":\"a97807e5-fcb4-4753-8306-8b805fceb1bb\",\"type\":\"LinearAxis\"},{\"id\":\"c7521a8b-2195-4c17-bec1-5f0097ca7076\",\"type\":\"Grid\"},{\"id\":\"f09ee8c8-b457-4a64-91c4-db81bb2d10a5\",\"type\":\"BoxAnnotation\"},{\"id\":\"8f3fce39-382b-4007-b539-ed2463200ee6\",\"type\":\"Legend\"},{\"id\":\"9cdd38d9-4036-446c-a10c-5032fa7c510b\",\"type\":\"GlyphRenderer\"}],\"title\":{\"id\":\"c8846ba8-ddc4-4955-b09b-c37c98a67f13\",\"type\":\"Title\"},\"toolbar\":{\"id\":\"6ba392e7-1218-4832-b20d-5229cd109bf6\",\"type\":\"Toolbar\"},\"x_range\":{\"id\":\"1685b642-40ae-41b7-a742-dda69bdc76e4\",\"type\":\"DataRange1d\"},\"x_scale\":{\"id\":\"696933fc-6243-4e54-a40e-68846f66a48b\",\"type\":\"LinearScale\"},\"y_range\":{\"id\":\"abaf7e4d-4503-4a70-a8ce-469e0c150365\",\"type\":\"DataRange1d\"},\"y_scale\":{\"id\":\"6b471b1c-108e-40b7-89f3-19f8a73bc478\",\"type\":\"LinearScale\"}},\"id\":\"bc7fc4c5-4410-4c0c-b959-83c4f395759e\",\"subtype\":\"Figure\",\"type\":\"Plot\"},{\"attributes\":{},\"id\":\"6ceac3f5-1310-49ff-a21e-0339e544bfd6\",\"type\":\"ResetTool\"},{\"attributes\":{},\"id\":\"1f6df0f7-bbb3-4f0e-b4f1-942858b674cb\",\"type\":\"BasicTickFormatter\"},{\"attributes\":{\"callback\":null},\"id\":\"abaf7e4d-4503-4a70-a8ce-469e0c150365\",\"type\":\"DataRange1d\"},{\"attributes\":{\"bottom_units\":\"screen\",\"fill_alpha\":{\"value\":0.5},\"fill_color\":{\"value\":\"lightgrey\"},\"left_units\":\"screen\",\"level\":\"overlay\",\"line_alpha\":{\"value\":1.0},\"line_color\":{\"value\":\"black\"},\"line_dash\":[4,4],\"line_width\":{\"value\":2},\"plot\":null,\"render_mode\":\"css\",\"right_units\":\"screen\",\"top_units\":\"screen\"},\"id\":\"f09ee8c8-b457-4a64-91c4-db81bb2d10a5\",\"type\":\"BoxAnnotation\"},{\"attributes\":{},\"id\":\"f7db0a8b-d5b9-432c-95ec-42ee23251ed7\",\"type\":\"BasicTicker\"},{\"attributes\":{\"line_alpha\":0.1,\"line_color\":\"#1f77b4\",\"x\":{\"field\":\"x\"},\"y\":{\"field\":\"y\"}},\"id\":\"79c3f7a0-abf5-4206-b06e-f371a28ca557\",\"type\":\"Line\"},{\"attributes\":{},\"id\":\"696933fc-6243-4e54-a40e-68846f66a48b\",\"type\":\"LinearScale\"},{\"attributes\":{},\"id\":\"e27d0b45-9d23-4854-908c-e6745958e490\",\"type\":\"WheelZoomTool\"},{\"attributes\":{\"source\":{\"id\":\"6b7b1738-2246-41bb-ac95-d341011cfa5a\",\"type\":\"ColumnDataSource\"}},\"id\":\"b72d2b94-8773-4592-8fa5-7995519948f1\",\"type\":\"CDSView\"},{\"attributes\":{\"overlay\":{\"id\":\"f09ee8c8-b457-4a64-91c4-db81bb2d10a5\",\"type\":\"BoxAnnotation\"}},\"id\":\"a86dd5c9-edfc-4adb-9818-d15758129fd0\",\"type\":\"BoxZoomTool\"}],\"root_ids\":[\"bc7fc4c5-4410-4c0c-b959-83c4f395759e\"]},\"title\":\"Bokeh Application\",\"version\":\"0.12.14\"}};\n",
       "  var render_items = [{\"docid\":\"c3c86680-cf49-43fe-b9d3-12698eb03e15\",\"elementid\":\"e7b16735-786b-48ee-ab8b-1c2b4b5faa05\",\"modelid\":\"bc7fc4c5-4410-4c0c-b959-83c4f395759e\"}];\n",
       "  root.Bokeh.embed.embed_items_notebook(docs_json, render_items);\n",
       "\n",
       "  }\n",
       "  if (root.Bokeh !== undefined) {\n",
       "    embed_document(root);\n",
       "  } else {\n",
       "    var attempts = 0;\n",
       "    var timer = setInterval(function(root) {\n",
       "      if (root.Bokeh !== undefined) {\n",
       "        embed_document(root);\n",
       "        clearInterval(timer);\n",
       "      }\n",
       "      attempts++;\n",
       "      if (attempts > 100) {\n",
       "        console.log(\"Bokeh: ERROR: Unable to run BokehJS code because BokehJS library is missing\")\n",
       "        clearInterval(timer);\n",
       "      }\n",
       "    }, 10, root)\n",
       "  }\n",
       "})(window);"
      ],
      "application/vnd.bokehjs_exec.v0+json": ""
     },
     "metadata": {
      "application/vnd.bokehjs_exec.v0+json": {
       "id": "bc7fc4c5-4410-4c0c-b959-83c4f395759e"
      }
     },
     "output_type": "display_data"
    }
   ],
   "source": [
    "N = 512.\n",
    "\n",
    "ko= 5.336\n",
    "a = 50.\n",
    "scale = a * ko\n",
    "\n",
    "x = np.arange(N) - (N/2.-1.)\n",
    "u = x/N\n",
    "\n",
    "morletFTsh = scale * np.exp(-.5*(abs(scale*u - ko)**2.))\n",
    "\n",
    "Tools = 'pan,box_zoom,wheel_zoom,reset,save'\n",
    "f = figbok( x_axis_label=\"x\", y_axis_label=\"Amplitude\",tools=Tools)\n",
    "f.line(u, morletFTsh, legend='Scale '+np.str(a))\n",
    "\n",
    "showbok(f)"
   ]
  },
  {
   "cell_type": "code",
   "execution_count": 228,
   "metadata": {},
   "outputs": [
    {
     "data": {
      "text/html": [
       "\n",
       "<div class=\"bk-root\">\n",
       "    <div class=\"bk-plotdiv\" id=\"ef17abb1-1cbf-4df9-bddb-a5d3abfa4eba\"></div>\n",
       "</div>"
      ]
     },
     "metadata": {},
     "output_type": "display_data"
    },
    {
     "data": {
      "application/javascript": [
       "(function(root) {\n",
       "  function embed_document(root) {\n",
       "    \n",
       "  var docs_json = {\"7f9bda76-80c5-4c86-8677-1af9992a88ca\":{\"roots\":{\"references\":[{\"attributes\":{},\"id\":\"d32bbe86-dfec-4e83-aef5-bbf1ce00b668\",\"type\":\"ResetTool\"},{\"attributes\":{},\"id\":\"fcac7b27-417b-47e5-ac5f-866ed5f0c452\",\"type\":\"PanTool\"},{\"attributes\":{},\"id\":\"18e4559d-cb00-4962-8474-2f762f984d08\",\"type\":\"SaveTool\"},{\"attributes\":{\"label\":{\"value\":\"Scale 50.0\"},\"renderers\":[{\"id\":\"dbd4abf7-0841-49a6-8503-91c2f177aed3\",\"type\":\"GlyphRenderer\"}]},\"id\":\"ca51f3b0-02eb-4359-856c-6c932f5fe420\",\"type\":\"LegendItem\"},{\"attributes\":{\"axis_label\":\"Amplitude\",\"formatter\":{\"id\":\"ac5c71bf-3eb0-49b0-8615-ff97a5b581de\",\"type\":\"BasicTickFormatter\"},\"plot\":{\"id\":\"85ec69c7-c4c7-408a-ab81-0a9e06520087\",\"subtype\":\"Figure\",\"type\":\"Plot\"},\"ticker\":{\"id\":\"1a03ce41-60c5-4d4c-bb12-53894a3f48a1\",\"type\":\"BasicTicker\"}},\"id\":\"c12506e6-50c6-4275-8a21-517ee8e5acb3\",\"type\":\"LinearAxis\"},{\"attributes\":{\"callback\":null},\"id\":\"3f6a8da1-420d-4af1-bc81-46904bdb8198\",\"type\":\"DataRange1d\"},{\"attributes\":{\"bottom_units\":\"screen\",\"fill_alpha\":{\"value\":0.5},\"fill_color\":{\"value\":\"lightgrey\"},\"left_units\":\"screen\",\"level\":\"overlay\",\"line_alpha\":{\"value\":1.0},\"line_color\":{\"value\":\"black\"},\"line_dash\":[4,4],\"line_width\":{\"value\":2},\"plot\":null,\"render_mode\":\"css\",\"right_units\":\"screen\",\"top_units\":\"screen\"},\"id\":\"4d0e2035-cd2a-494d-b25e-f4cc3f318e39\",\"type\":\"BoxAnnotation\"},{\"attributes\":{\"active_drag\":\"auto\",\"active_inspect\":\"auto\",\"active_scroll\":\"auto\",\"active_tap\":\"auto\",\"tools\":[{\"id\":\"fcac7b27-417b-47e5-ac5f-866ed5f0c452\",\"type\":\"PanTool\"},{\"id\":\"b8c336aa-ac98-4767-8f59-737d5cd3c28c\",\"type\":\"BoxZoomTool\"},{\"id\":\"9ae9ffae-624e-4456-9328-2906075cc3ac\",\"type\":\"WheelZoomTool\"},{\"id\":\"d32bbe86-dfec-4e83-aef5-bbf1ce00b668\",\"type\":\"ResetTool\"},{\"id\":\"18e4559d-cb00-4962-8474-2f762f984d08\",\"type\":\"SaveTool\"}]},\"id\":\"59524274-c5ff-4d05-9dcc-4f9953ee047b\",\"type\":\"Toolbar\"},{\"attributes\":{\"callback\":null},\"id\":\"881c9ac4-5a0d-42bf-b558-57a04420153b\",\"type\":\"DataRange1d\"},{\"attributes\":{\"line_color\":\"#1f77b4\",\"x\":{\"field\":\"x\"},\"y\":{\"field\":\"y\"}},\"id\":\"ddd8a17c-d491-410d-8e82-c9afbfbb252d\",\"type\":\"Line\"},{\"attributes\":{\"line_alpha\":0.1,\"line_color\":\"#1f77b4\",\"x\":{\"field\":\"x\"},\"y\":{\"field\":\"y\"}},\"id\":\"711a7bb2-0b74-44e6-b17a-e1a662935dc1\",\"type\":\"Line\"},{\"attributes\":{\"plot\":null,\"text\":\"\"},\"id\":\"93bfbe0a-c28b-46ca-835b-197e8a80979a\",\"type\":\"Title\"},{\"attributes\":{\"dimension\":1,\"plot\":{\"id\":\"85ec69c7-c4c7-408a-ab81-0a9e06520087\",\"subtype\":\"Figure\",\"type\":\"Plot\"},\"ticker\":{\"id\":\"1a03ce41-60c5-4d4c-bb12-53894a3f48a1\",\"type\":\"BasicTicker\"}},\"id\":\"10fba59f-4705-49ff-a95c-1140df8f8a9e\",\"type\":\"Grid\"},{\"attributes\":{},\"id\":\"29c16d08-73ae-46f7-b190-291d067a9725\",\"type\":\"BasicTickFormatter\"},{\"attributes\":{},\"id\":\"ac5c71bf-3eb0-49b0-8615-ff97a5b581de\",\"type\":\"BasicTickFormatter\"},{\"attributes\":{\"below\":[{\"id\":\"f384b4d3-b016-4f44-a725-fe92900a827b\",\"type\":\"LinearAxis\"}],\"left\":[{\"id\":\"c12506e6-50c6-4275-8a21-517ee8e5acb3\",\"type\":\"LinearAxis\"}],\"renderers\":[{\"id\":\"f384b4d3-b016-4f44-a725-fe92900a827b\",\"type\":\"LinearAxis\"},{\"id\":\"636fce1a-2cbb-4923-a79b-054055e48e95\",\"type\":\"Grid\"},{\"id\":\"c12506e6-50c6-4275-8a21-517ee8e5acb3\",\"type\":\"LinearAxis\"},{\"id\":\"10fba59f-4705-49ff-a95c-1140df8f8a9e\",\"type\":\"Grid\"},{\"id\":\"4d0e2035-cd2a-494d-b25e-f4cc3f318e39\",\"type\":\"BoxAnnotation\"},{\"id\":\"65f4be0d-ee83-4ef6-a0e4-cd0dcc3d01c7\",\"type\":\"Legend\"},{\"id\":\"dbd4abf7-0841-49a6-8503-91c2f177aed3\",\"type\":\"GlyphRenderer\"}],\"title\":{\"id\":\"93bfbe0a-c28b-46ca-835b-197e8a80979a\",\"type\":\"Title\"},\"toolbar\":{\"id\":\"59524274-c5ff-4d05-9dcc-4f9953ee047b\",\"type\":\"Toolbar\"},\"x_range\":{\"id\":\"881c9ac4-5a0d-42bf-b558-57a04420153b\",\"type\":\"DataRange1d\"},\"x_scale\":{\"id\":\"26598a17-91a4-4b74-8890-275994be81cc\",\"type\":\"LinearScale\"},\"y_range\":{\"id\":\"3f6a8da1-420d-4af1-bc81-46904bdb8198\",\"type\":\"DataRange1d\"},\"y_scale\":{\"id\":\"c7b44a7a-35ee-42ef-9ad2-48a905678e35\",\"type\":\"LinearScale\"}},\"id\":\"85ec69c7-c4c7-408a-ab81-0a9e06520087\",\"subtype\":\"Figure\",\"type\":\"Plot\"},{\"attributes\":{},\"id\":\"9ae9ffae-624e-4456-9328-2906075cc3ac\",\"type\":\"WheelZoomTool\"},{\"attributes\":{\"source\":{\"id\":\"9eb9dc18-fed5-47bb-bcc5-f395c48ce5fd\",\"type\":\"ColumnDataSource\"}},\"id\":\"dec77f7b-21c1-434a-a56e-892759b9c8f8\",\"type\":\"CDSView\"},{\"attributes\":{},\"id\":\"c7b44a7a-35ee-42ef-9ad2-48a905678e35\",\"type\":\"LinearScale\"},{\"attributes\":{\"overlay\":{\"id\":\"4d0e2035-cd2a-494d-b25e-f4cc3f318e39\",\"type\":\"BoxAnnotation\"}},\"id\":\"b8c336aa-ac98-4767-8f59-737d5cd3c28c\",\"type\":\"BoxZoomTool\"},{\"attributes\":{\"axis_label\":\"x\",\"formatter\":{\"id\":\"29c16d08-73ae-46f7-b190-291d067a9725\",\"type\":\"BasicTickFormatter\"},\"plot\":{\"id\":\"85ec69c7-c4c7-408a-ab81-0a9e06520087\",\"subtype\":\"Figure\",\"type\":\"Plot\"},\"ticker\":{\"id\":\"87fa42c2-e2fa-4b38-b3ec-f3658cef9487\",\"type\":\"BasicTicker\"}},\"id\":\"f384b4d3-b016-4f44-a725-fe92900a827b\",\"type\":\"LinearAxis\"},{\"attributes\":{},\"id\":\"26598a17-91a4-4b74-8890-275994be81cc\",\"type\":\"LinearScale\"},{\"attributes\":{\"items\":[{\"id\":\"ca51f3b0-02eb-4359-856c-6c932f5fe420\",\"type\":\"LegendItem\"}],\"plot\":{\"id\":\"85ec69c7-c4c7-408a-ab81-0a9e06520087\",\"subtype\":\"Figure\",\"type\":\"Plot\"}},\"id\":\"65f4be0d-ee83-4ef6-a0e4-cd0dcc3d01c7\",\"type\":\"Legend\"},{\"attributes\":{},\"id\":\"1a03ce41-60c5-4d4c-bb12-53894a3f48a1\",\"type\":\"BasicTicker\"},{\"attributes\":{\"plot\":{\"id\":\"85ec69c7-c4c7-408a-ab81-0a9e06520087\",\"subtype\":\"Figure\",\"type\":\"Plot\"},\"ticker\":{\"id\":\"87fa42c2-e2fa-4b38-b3ec-f3658cef9487\",\"type\":\"BasicTicker\"}},\"id\":\"636fce1a-2cbb-4923-a79b-054055e48e95\",\"type\":\"Grid\"},{\"attributes\":{\"callback\":null,\"column_names\":[\"y\",\"x\"],\"data\":{\"x\":{\"__ndarray__\":\"AAAAAADgb8AAAAAAAMBvwAAAAAAAoG/AAAAAAACAb8AAAAAAAGBvwAAAAAAAQG/AAAAAAAAgb8AAAAAAAABvwAAAAAAA4G7AAAAAAADAbsAAAAAAAKBuwAAAAAAAgG7AAAAAAABgbsAAAAAAAEBuwAAAAAAAIG7AAAAAAAAAbsAAAAAAAOBtwAAAAAAAwG3AAAAAAACgbcAAAAAAAIBtwAAAAAAAYG3AAAAAAABAbcAAAAAAACBtwAAAAAAAAG3AAAAAAADgbMAAAAAAAMBswAAAAAAAoGzAAAAAAACAbMAAAAAAAGBswAAAAAAAQGzAAAAAAAAgbMAAAAAAAABswAAAAAAA4GvAAAAAAADAa8AAAAAAAKBrwAAAAAAAgGvAAAAAAABga8AAAAAAAEBrwAAAAAAAIGvAAAAAAAAAa8AAAAAAAOBqwAAAAAAAwGrAAAAAAACgasAAAAAAAIBqwAAAAAAAYGrAAAAAAABAasAAAAAAACBqwAAAAAAAAGrAAAAAAADgacAAAAAAAMBpwAAAAAAAoGnAAAAAAACAacAAAAAAAGBpwAAAAAAAQGnAAAAAAAAgacAAAAAAAABpwAAAAAAA4GjAAAAAAADAaMAAAAAAAKBowAAAAAAAgGjAAAAAAABgaMAAAAAAAEBowAAAAAAAIGjAAAAAAAAAaMAAAAAAAOBnwAAAAAAAwGfAAAAAAACgZ8AAAAAAAIBnwAAAAAAAYGfAAAAAAABAZ8AAAAAAACBnwAAAAAAAAGfAAAAAAADgZsAAAAAAAMBmwAAAAAAAoGbAAAAAAACAZsAAAAAAAGBmwAAAAAAAQGbAAAAAAAAgZsAAAAAAAABmwAAAAAAA4GXAAAAAAADAZcAAAAAAAKBlwAAAAAAAgGXAAAAAAABgZcAAAAAAAEBlwAAAAAAAIGXAAAAAAAAAZcAAAAAAAOBkwAAAAAAAwGTAAAAAAACgZMAAAAAAAIBkwAAAAAAAYGTAAAAAAABAZMAAAAAAACBkwAAAAAAAAGTAAAAAAADgY8AAAAAAAMBjwAAAAAAAoGPAAAAAAACAY8AAAAAAAGBjwAAAAAAAQGPAAAAAAAAgY8AAAAAAAABjwAAAAAAA4GLAAAAAAADAYsAAAAAAAKBiwAAAAAAAgGLAAAAAAABgYsAAAAAAAEBiwAAAAAAAIGLAAAAAAAAAYsAAAAAAAOBhwAAAAAAAwGHAAAAAAACgYcAAAAAAAIBhwAAAAAAAYGHAAAAAAABAYcAAAAAAACBhwAAAAAAAAGHAAAAAAADgYMAAAAAAAMBgwAAAAAAAoGDAAAAAAACAYMAAAAAAAGBgwAAAAAAAQGDAAAAAAAAgYMAAAAAAAABgwAAAAAAAwF/AAAAAAACAX8AAAAAAAEBfwAAAAAAAAF/AAAAAAADAXsAAAAAAAIBewAAAAAAAQF7AAAAAAAAAXsAAAAAAAMBdwAAAAAAAgF3AAAAAAABAXcAAAAAAAABdwAAAAAAAwFzAAAAAAACAXMAAAAAAAEBcwAAAAAAAAFzAAAAAAADAW8AAAAAAAIBbwAAAAAAAQFvAAAAAAAAAW8AAAAAAAMBawAAAAAAAgFrAAAAAAABAWsAAAAAAAABawAAAAAAAwFnAAAAAAACAWcAAAAAAAEBZwAAAAAAAAFnAAAAAAADAWMAAAAAAAIBYwAAAAAAAQFjAAAAAAAAAWMAAAAAAAMBXwAAAAAAAgFfAAAAAAABAV8AAAAAAAABXwAAAAAAAwFbAAAAAAACAVsAAAAAAAEBWwAAAAAAAAFbAAAAAAADAVcAAAAAAAIBVwAAAAAAAQFXAAAAAAAAAVcAAAAAAAMBUwAAAAAAAgFTAAAAAAABAVMAAAAAAAABUwAAAAAAAwFPAAAAAAACAU8AAAAAAAEBTwAAAAAAAAFPAAAAAAADAUsAAAAAAAIBSwAAAAAAAQFLAAAAAAAAAUsAAAAAAAMBRwAAAAAAAgFHAAAAAAABAUcAAAAAAAABRwAAAAAAAwFDAAAAAAACAUMAAAAAAAEBQwAAAAAAAAFDAAAAAAACAT8AAAAAAAABPwAAAAAAAgE7AAAAAAAAATsAAAAAAAIBNwAAAAAAAAE3AAAAAAACATMAAAAAAAABMwAAAAAAAgEvAAAAAAAAAS8AAAAAAAIBKwAAAAAAAAErAAAAAAACAScAAAAAAAABJwAAAAAAAgEjAAAAAAAAASMAAAAAAAIBHwAAAAAAAAEfAAAAAAACARsAAAAAAAABGwAAAAAAAgEXAAAAAAAAARcAAAAAAAIBEwAAAAAAAAETAAAAAAACAQ8AAAAAAAABDwAAAAAAAgELAAAAAAAAAQsAAAAAAAIBBwAAAAAAAAEHAAAAAAACAQMAAAAAAAABAwAAAAAAAAD/AAAAAAAAAPsAAAAAAAAA9wAAAAAAAADzAAAAAAAAAO8AAAAAAAAA6wAAAAAAAADnAAAAAAAAAOMAAAAAAAAA3wAAAAAAAADbAAAAAAAAANcAAAAAAAAA0wAAAAAAAADPAAAAAAAAAMsAAAAAAAAAxwAAAAAAAADDAAAAAAAAALsAAAAAAAAAswAAAAAAAACrAAAAAAAAAKMAAAAAAAAAmwAAAAAAAACTAAAAAAAAAIsAAAAAAAAAgwAAAAAAAABzAAAAAAAAAGMAAAAAAAAAUwAAAAAAAABDAAAAAAAAACMAAAAAAAAAAwAAAAAAAAPC/AAAAAAAAAAAAAAAAAADwPwAAAAAAAABAAAAAAAAACEAAAAAAAAAQQAAAAAAAABRAAAAAAAAAGEAAAAAAAAAcQAAAAAAAACBAAAAAAAAAIkAAAAAAAAAkQAAAAAAAACZAAAAAAAAAKEAAAAAAAAAqQAAAAAAAACxAAAAAAAAALkAAAAAAAAAwQAAAAAAAADFAAAAAAAAAMkAAAAAAAAAzQAAAAAAAADRAAAAAAAAANUAAAAAAAAA2QAAAAAAAADdAAAAAAAAAOEAAAAAAAAA5QAAAAAAAADpAAAAAAAAAO0AAAAAAAAA8QAAAAAAAAD1AAAAAAAAAPkAAAAAAAAA/QAAAAAAAAEBAAAAAAACAQEAAAAAAAABBQAAAAAAAgEFAAAAAAAAAQkAAAAAAAIBCQAAAAAAAAENAAAAAAACAQ0AAAAAAAABEQAAAAAAAgERAAAAAAAAARUAAAAAAAIBFQAAAAAAAAEZAAAAAAACARkAAAAAAAABHQAAAAAAAgEdAAAAAAAAASEAAAAAAAIBIQAAAAAAAAElAAAAAAACASUAAAAAAAABKQAAAAAAAgEpAAAAAAAAAS0AAAAAAAIBLQAAAAAAAAExAAAAAAACATEAAAAAAAABNQAAAAAAAgE1AAAAAAAAATkAAAAAAAIBOQAAAAAAAAE9AAAAAAACAT0AAAAAAAABQQAAAAAAAQFBAAAAAAACAUEAAAAAAAMBQQAAAAAAAAFFAAAAAAABAUUAAAAAAAIBRQAAAAAAAwFFAAAAAAAAAUkAAAAAAAEBSQAAAAAAAgFJAAAAAAADAUkAAAAAAAABTQAAAAAAAQFNAAAAAAACAU0AAAAAAAMBTQAAAAAAAAFRAAAAAAABAVEAAAAAAAIBUQAAAAAAAwFRAAAAAAAAAVUAAAAAAAEBVQAAAAAAAgFVAAAAAAADAVUAAAAAAAABWQAAAAAAAQFZAAAAAAACAVkAAAAAAAMBWQAAAAAAAAFdAAAAAAABAV0AAAAAAAIBXQAAAAAAAwFdAAAAAAAAAWEAAAAAAAEBYQAAAAAAAgFhAAAAAAADAWEAAAAAAAABZQAAAAAAAQFlAAAAAAACAWUAAAAAAAMBZQAAAAAAAAFpAAAAAAABAWkAAAAAAAIBaQAAAAAAAwFpAAAAAAAAAW0AAAAAAAEBbQAAAAAAAgFtAAAAAAADAW0AAAAAAAABcQAAAAAAAQFxAAAAAAACAXEAAAAAAAMBcQAAAAAAAAF1AAAAAAABAXUAAAAAAAIBdQAAAAAAAwF1AAAAAAAAAXkAAAAAAAEBeQAAAAAAAgF5AAAAAAADAXkAAAAAAAABfQAAAAAAAQF9AAAAAAACAX0AAAAAAAMBfQAAAAAAAAGBAAAAAAAAgYEAAAAAAAEBgQAAAAAAAYGBAAAAAAACAYEAAAAAAAKBgQAAAAAAAwGBAAAAAAADgYEAAAAAAAABhQAAAAAAAIGFAAAAAAABAYUAAAAAAAGBhQAAAAAAAgGFAAAAAAACgYUAAAAAAAMBhQAAAAAAA4GFAAAAAAAAAYkAAAAAAACBiQAAAAAAAQGJAAAAAAABgYkAAAAAAAIBiQAAAAAAAoGJAAAAAAADAYkAAAAAAAOBiQAAAAAAAAGNAAAAAAAAgY0AAAAAAAEBjQAAAAAAAYGNAAAAAAACAY0AAAAAAAKBjQAAAAAAAwGNAAAAAAADgY0AAAAAAAABkQAAAAAAAIGRAAAAAAABAZEAAAAAAAGBkQAAAAAAAgGRAAAAAAACgZEAAAAAAAMBkQAAAAAAA4GRAAAAAAAAAZUAAAAAAACBlQAAAAAAAQGVAAAAAAABgZUAAAAAAAIBlQAAAAAAAoGVAAAAAAADAZUAAAAAAAOBlQAAAAAAAAGZAAAAAAAAgZkAAAAAAAEBmQAAAAAAAYGZAAAAAAACAZkAAAAAAAKBmQAAAAAAAwGZAAAAAAADgZkAAAAAAAABnQAAAAAAAIGdAAAAAAABAZ0AAAAAAAGBnQAAAAAAAgGdAAAAAAACgZ0AAAAAAAMBnQAAAAAAA4GdAAAAAAAAAaEAAAAAAACBoQAAAAAAAQGhAAAAAAABgaEAAAAAAAIBoQAAAAAAAoGhAAAAAAADAaEAAAAAAAOBoQAAAAAAAAGlAAAAAAAAgaUAAAAAAAEBpQAAAAAAAYGlAAAAAAACAaUAAAAAAAKBpQAAAAAAAwGlAAAAAAADgaUAAAAAAAABqQAAAAAAAIGpAAAAAAABAakAAAAAAAGBqQAAAAAAAgGpAAAAAAACgakAAAAAAAMBqQAAAAAAA4GpAAAAAAAAAa0AAAAAAACBrQAAAAAAAQGtAAAAAAABga0AAAAAAAIBrQAAAAAAAoGtAAAAAAADAa0AAAAAAAOBrQAAAAAAAAGxAAAAAAAAgbEAAAAAAAEBsQAAAAAAAYGxAAAAAAACAbEAAAAAAAKBsQAAAAAAAwGxAAAAAAADgbEAAAAAAAABtQAAAAAAAIG1AAAAAAABAbUAAAAAAAGBtQAAAAAAAgG1AAAAAAACgbUAAAAAAAMBtQAAAAAAA4G1AAAAAAAAAbkAAAAAAACBuQAAAAAAAQG5AAAAAAABgbkAAAAAAAIBuQAAAAAAAoG5AAAAAAADAbkAAAAAAAOBuQAAAAAAAAG9AAAAAAAAgb0AAAAAAAEBvQAAAAAAAYG9AAAAAAACAb0AAAAAAAKBvQAAAAAAAwG9AAAAAAADgb0AAAAAAAABwQA==\",\"dtype\":\"float64\",\"shape\":[512]},\"y\":{\"__ndarray__\":\"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\",\"dtype\":\"float64\",\"shape\":[512]}}},\"id\":\"9eb9dc18-fed5-47bb-bcc5-f395c48ce5fd\",\"type\":\"ColumnDataSource\"},{\"attributes\":{},\"id\":\"87fa42c2-e2fa-4b38-b3ec-f3658cef9487\",\"type\":\"BasicTicker\"},{\"attributes\":{\"data_source\":{\"id\":\"9eb9dc18-fed5-47bb-bcc5-f395c48ce5fd\",\"type\":\"ColumnDataSource\"},\"glyph\":{\"id\":\"ddd8a17c-d491-410d-8e82-c9afbfbb252d\",\"type\":\"Line\"},\"hover_glyph\":null,\"muted_glyph\":null,\"nonselection_glyph\":{\"id\":\"711a7bb2-0b74-44e6-b17a-e1a662935dc1\",\"type\":\"Line\"},\"selection_glyph\":null,\"view\":{\"id\":\"dec77f7b-21c1-434a-a56e-892759b9c8f8\",\"type\":\"CDSView\"}},\"id\":\"dbd4abf7-0841-49a6-8503-91c2f177aed3\",\"type\":\"GlyphRenderer\"}],\"root_ids\":[\"85ec69c7-c4c7-408a-ab81-0a9e06520087\"]},\"title\":\"Bokeh Application\",\"version\":\"0.12.14\"}};\n",
       "  var render_items = [{\"docid\":\"7f9bda76-80c5-4c86-8677-1af9992a88ca\",\"elementid\":\"ef17abb1-1cbf-4df9-bddb-a5d3abfa4eba\",\"modelid\":\"85ec69c7-c4c7-408a-ab81-0a9e06520087\"}];\n",
       "  root.Bokeh.embed.embed_items_notebook(docs_json, render_items);\n",
       "\n",
       "  }\n",
       "  if (root.Bokeh !== undefined) {\n",
       "    embed_document(root);\n",
       "  } else {\n",
       "    var attempts = 0;\n",
       "    var timer = setInterval(function(root) {\n",
       "      if (root.Bokeh !== undefined) {\n",
       "        embed_document(root);\n",
       "        clearInterval(timer);\n",
       "      }\n",
       "      attempts++;\n",
       "      if (attempts > 100) {\n",
       "        console.log(\"Bokeh: ERROR: Unable to run BokehJS code because BokehJS library is missing\")\n",
       "        clearInterval(timer);\n",
       "      }\n",
       "    }, 10, root)\n",
       "  }\n",
       "})(window);"
      ],
      "application/vnd.bokehjs_exec.v0+json": ""
     },
     "metadata": {
      "application/vnd.bokehjs_exec.v0+json": {
       "id": "85ec69c7-c4c7-408a-ab81-0a9e06520087"
      }
     },
     "output_type": "display_data"
    }
   ],
   "source": [
    "morlet = (np.cos(ko*x/a)+1j*np.sin(ko*x/a))*np.exp(-0.5*abs(x/a)**2.)\n",
    "\n",
    "Tools = 'pan,box_zoom,wheel_zoom,reset,save'\n",
    "f = figbok( x_axis_label=\"x\", y_axis_label=\"Amplitude\",tools=Tools)\n",
    "f.line(x, morlet.imag, legend='Scale '+np.str(a))\n",
    "\n",
    "showbok(f)"
   ]
  },
  {
   "cell_type": "markdown",
   "metadata": {},
   "source": [
    "## In X-space"
   ]
  },
  {
   "cell_type": "code",
   "execution_count": 222,
   "metadata": {},
   "outputs": [
    {
     "data": {
      "text/html": [
       "\n",
       "<div class=\"bk-root\">\n",
       "    <div class=\"bk-plotdiv\" id=\"0851ad5a-f37d-41c6-895b-8ec97ef7d221\"></div>\n",
       "</div>"
      ]
     },
     "metadata": {},
     "output_type": "display_data"
    },
    {
     "data": {
      "application/javascript": [
       "(function(root) {\n",
       "  function embed_document(root) {\n",
       "    \n",
       "  var docs_json = {\"62d80b8c-8445-4c01-b9d9-8df83c86e628\":{\"roots\":{\"references\":[{\"attributes\":{},\"id\":\"f9604767-1dc3-41a8-b4a0-e0503c9f67fa\",\"type\":\"BasicTicker\"},{\"attributes\":{},\"id\":\"53b22651-8664-40dd-835b-f0adf3560799\",\"type\":\"BasicTicker\"},{\"attributes\":{},\"id\":\"5ee25581-5c58-494f-83b6-e19d9f8cecee\",\"type\":\"LinearScale\"},{\"attributes\":{\"label\":{\"value\":\"Scale 50.0\"},\"renderers\":[{\"id\":\"0e3c85aa-cd83-48c7-aaef-1ce727c39206\",\"type\":\"GlyphRenderer\"}]},\"id\":\"3a34c3d0-efa8-4bca-84aa-9d0aec5f6e20\",\"type\":\"LegendItem\"},{\"attributes\":{},\"id\":\"c9871361-414c-4a64-9a51-a8377cf44520\",\"type\":\"LinearScale\"},{\"attributes\":{\"axis_label\":\"Amplitude\",\"formatter\":{\"id\":\"36be7a63-49f1-4c61-be3e-17d8e15e26c8\",\"type\":\"BasicTickFormatter\"},\"plot\":{\"id\":\"fd0ece75-cbd9-4197-a615-90931d4a7788\",\"subtype\":\"Figure\",\"type\":\"Plot\"},\"ticker\":{\"id\":\"53b22651-8664-40dd-835b-f0adf3560799\",\"type\":\"BasicTicker\"}},\"id\":\"21ace913-1a6f-4f7d-acad-0c489fd17763\",\"type\":\"LinearAxis\"},{\"attributes\":{},\"id\":\"88fc06a7-c312-4531-b4d3-99925ce8529f\",\"type\":\"ResetTool\"},{\"attributes\":{\"line_color\":\"#1f77b4\",\"x\":{\"field\":\"x\"},\"y\":{\"field\":\"y\"}},\"id\":\"507859cd-6540-4d97-bc59-186dfb1e93d8\",\"type\":\"Line\"},{\"attributes\":{\"data_source\":{\"id\":\"89d07747-ca46-4f7d-b342-031eda28f860\",\"type\":\"ColumnDataSource\"},\"glyph\":{\"id\":\"507859cd-6540-4d97-bc59-186dfb1e93d8\",\"type\":\"Line\"},\"hover_glyph\":null,\"muted_glyph\":null,\"nonselection_glyph\":{\"id\":\"fee3f707-13be-45d0-b49b-f5b8722d8453\",\"type\":\"Line\"},\"selection_glyph\":null,\"view\":{\"id\":\"549d28c3-0840-4bcd-b60c-2e1072460cca\",\"type\":\"CDSView\"}},\"id\":\"0e3c85aa-cd83-48c7-aaef-1ce727c39206\",\"type\":\"GlyphRenderer\"},{\"attributes\":{\"callback\":null,\"column_names\":[\"y\",\"x\"],\"data\":{\"x\":{\"__ndarray__\":\"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\",\"dtype\":\"float64\",\"shape\":[512]},\"y\":{\"__ndarray__\":\"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\",\"dtype\":\"float64\",\"shape\":[512]}}},\"id\":\"89d07747-ca46-4f7d-b342-031eda28f860\",\"type\":\"ColumnDataSource\"},{\"attributes\":{\"below\":[{\"id\":\"623140ab-e2cb-4526-b95c-c3e01dd0fc3d\",\"type\":\"LinearAxis\"}],\"left\":[{\"id\":\"21ace913-1a6f-4f7d-acad-0c489fd17763\",\"type\":\"LinearAxis\"}],\"renderers\":[{\"id\":\"623140ab-e2cb-4526-b95c-c3e01dd0fc3d\",\"type\":\"LinearAxis\"},{\"id\":\"465bb203-a871-41c6-9ebc-284799530629\",\"type\":\"Grid\"},{\"id\":\"21ace913-1a6f-4f7d-acad-0c489fd17763\",\"type\":\"LinearAxis\"},{\"id\":\"711595a3-43c6-4c99-a0f6-790c6ff77142\",\"type\":\"Grid\"},{\"id\":\"3906839c-ec35-4243-b5bd-4179cdf05f23\",\"type\":\"BoxAnnotation\"},{\"id\":\"b48f1242-f00f-4256-881e-7915dc5ea5d5\",\"type\":\"Legend\"},{\"id\":\"0e3c85aa-cd83-48c7-aaef-1ce727c39206\",\"type\":\"GlyphRenderer\"}],\"title\":{\"id\":\"4d2a0c78-dccb-451e-8769-ab13a648157e\",\"type\":\"Title\"},\"toolbar\":{\"id\":\"58b9c538-4132-4e97-bbe8-48d95a445f09\",\"type\":\"Toolbar\"},\"x_range\":{\"id\":\"12ea9a5a-817c-4e79-abcf-db0d33133e79\",\"type\":\"DataRange1d\"},\"x_scale\":{\"id\":\"c9871361-414c-4a64-9a51-a8377cf44520\",\"type\":\"LinearScale\"},\"y_range\":{\"id\":\"15ba738c-8773-49c5-b867-0f9d0b82fdd2\",\"type\":\"DataRange1d\"},\"y_scale\":{\"id\":\"5ee25581-5c58-494f-83b6-e19d9f8cecee\",\"type\":\"LinearScale\"}},\"id\":\"fd0ece75-cbd9-4197-a615-90931d4a7788\",\"subtype\":\"Figure\",\"type\":\"Plot\"},{\"attributes\":{},\"id\":\"ee2d9026-6b8c-4935-a046-f33db107036f\",\"type\":\"SaveTool\"},{\"attributes\":{\"active_drag\":\"auto\",\"active_inspect\":\"auto\",\"active_scroll\":\"auto\",\"active_tap\":\"auto\",\"tools\":[{\"id\":\"129e6905-74a3-4108-8c79-25a6a6d7968b\",\"type\":\"PanTool\"},{\"id\":\"fbb7415a-b3bb-4513-9e21-3ffe1271bcb6\",\"type\":\"BoxZoomTool\"},{\"id\":\"3231554d-8a93-4968-9911-86d5f821500f\",\"type\":\"WheelZoomTool\"},{\"id\":\"88fc06a7-c312-4531-b4d3-99925ce8529f\",\"type\":\"ResetTool\"},{\"id\":\"ee2d9026-6b8c-4935-a046-f33db107036f\",\"type\":\"SaveTool\"}]},\"id\":\"58b9c538-4132-4e97-bbe8-48d95a445f09\",\"type\":\"Toolbar\"},{\"attributes\":{\"overlay\":{\"id\":\"3906839c-ec35-4243-b5bd-4179cdf05f23\",\"type\":\"BoxAnnotation\"}},\"id\":\"fbb7415a-b3bb-4513-9e21-3ffe1271bcb6\",\"type\":\"BoxZoomTool\"},{\"attributes\":{\"plot\":{\"id\":\"fd0ece75-cbd9-4197-a615-90931d4a7788\",\"subtype\":\"Figure\",\"type\":\"Plot\"},\"ticker\":{\"id\":\"f9604767-1dc3-41a8-b4a0-e0503c9f67fa\",\"type\":\"BasicTicker\"}},\"id\":\"465bb203-a871-41c6-9ebc-284799530629\",\"type\":\"Grid\"},{\"attributes\":{},\"id\":\"3231554d-8a93-4968-9911-86d5f821500f\",\"type\":\"WheelZoomTool\"},{\"attributes\":{\"callback\":null},\"id\":\"12ea9a5a-817c-4e79-abcf-db0d33133e79\",\"type\":\"DataRange1d\"},{\"attributes\":{\"source\":{\"id\":\"89d07747-ca46-4f7d-b342-031eda28f860\",\"type\":\"ColumnDataSource\"}},\"id\":\"549d28c3-0840-4bcd-b60c-2e1072460cca\",\"type\":\"CDSView\"},{\"attributes\":{},\"id\":\"36be7a63-49f1-4c61-be3e-17d8e15e26c8\",\"type\":\"BasicTickFormatter\"},{\"attributes\":{\"plot\":null,\"text\":\"\"},\"id\":\"4d2a0c78-dccb-451e-8769-ab13a648157e\",\"type\":\"Title\"},{\"attributes\":{},\"id\":\"129e6905-74a3-4108-8c79-25a6a6d7968b\",\"type\":\"PanTool\"},{\"attributes\":{\"dimension\":1,\"plot\":{\"id\":\"fd0ece75-cbd9-4197-a615-90931d4a7788\",\"subtype\":\"Figure\",\"type\":\"Plot\"},\"ticker\":{\"id\":\"53b22651-8664-40dd-835b-f0adf3560799\",\"type\":\"BasicTicker\"}},\"id\":\"711595a3-43c6-4c99-a0f6-790c6ff77142\",\"type\":\"Grid\"},{\"attributes\":{\"callback\":null},\"id\":\"15ba738c-8773-49c5-b867-0f9d0b82fdd2\",\"type\":\"DataRange1d\"},{\"attributes\":{\"items\":[{\"id\":\"3a34c3d0-efa8-4bca-84aa-9d0aec5f6e20\",\"type\":\"LegendItem\"}],\"plot\":{\"id\":\"fd0ece75-cbd9-4197-a615-90931d4a7788\",\"subtype\":\"Figure\",\"type\":\"Plot\"}},\"id\":\"b48f1242-f00f-4256-881e-7915dc5ea5d5\",\"type\":\"Legend\"},{\"attributes\":{\"line_alpha\":0.1,\"line_color\":\"#1f77b4\",\"x\":{\"field\":\"x\"},\"y\":{\"field\":\"y\"}},\"id\":\"fee3f707-13be-45d0-b49b-f5b8722d8453\",\"type\":\"Line\"},{\"attributes\":{},\"id\":\"71bc453f-14c6-4dbd-8957-5e90f76a7706\",\"type\":\"BasicTickFormatter\"},{\"attributes\":{\"axis_label\":\"u\",\"formatter\":{\"id\":\"71bc453f-14c6-4dbd-8957-5e90f76a7706\",\"type\":\"BasicTickFormatter\"},\"plot\":{\"id\":\"fd0ece75-cbd9-4197-a615-90931d4a7788\",\"subtype\":\"Figure\",\"type\":\"Plot\"},\"ticker\":{\"id\":\"f9604767-1dc3-41a8-b4a0-e0503c9f67fa\",\"type\":\"BasicTicker\"}},\"id\":\"623140ab-e2cb-4526-b95c-c3e01dd0fc3d\",\"type\":\"LinearAxis\"},{\"attributes\":{\"bottom_units\":\"screen\",\"fill_alpha\":{\"value\":0.5},\"fill_color\":{\"value\":\"lightgrey\"},\"left_units\":\"screen\",\"level\":\"overlay\",\"line_alpha\":{\"value\":1.0},\"line_color\":{\"value\":\"black\"},\"line_dash\":[4,4],\"line_width\":{\"value\":2},\"plot\":null,\"render_mode\":\"css\",\"right_units\":\"screen\",\"top_units\":\"screen\"},\"id\":\"3906839c-ec35-4243-b5bd-4179cdf05f23\",\"type\":\"BoxAnnotation\"}],\"root_ids\":[\"fd0ece75-cbd9-4197-a615-90931d4a7788\"]},\"title\":\"Bokeh Application\",\"version\":\"0.12.14\"}};\n",
       "  var render_items = [{\"docid\":\"62d80b8c-8445-4c01-b9d9-8df83c86e628\",\"elementid\":\"0851ad5a-f37d-41c6-895b-8ec97ef7d221\",\"modelid\":\"fd0ece75-cbd9-4197-a615-90931d4a7788\"}];\n",
       "  root.Bokeh.embed.embed_items_notebook(docs_json, render_items);\n",
       "\n",
       "  }\n",
       "  if (root.Bokeh !== undefined) {\n",
       "    embed_document(root);\n",
       "  } else {\n",
       "    var attempts = 0;\n",
       "    var timer = setInterval(function(root) {\n",
       "      if (root.Bokeh !== undefined) {\n",
       "        embed_document(root);\n",
       "        clearInterval(timer);\n",
       "      }\n",
       "      attempts++;\n",
       "      if (attempts > 100) {\n",
       "        console.log(\"Bokeh: ERROR: Unable to run BokehJS code because BokehJS library is missing\")\n",
       "        clearInterval(timer);\n",
       "      }\n",
       "    }, 10, root)\n",
       "  }\n",
       "})(window);"
      ],
      "application/vnd.bokehjs_exec.v0+json": ""
     },
     "metadata": {
      "application/vnd.bokehjs_exec.v0+json": {
       "id": "fd0ece75-cbd9-4197-a615-90931d4a7788"
      }
     },
     "output_type": "display_data"
    }
   ],
   "source": [
    "morletFT = np.fft.fft(morlet)\n",
    "morletFTsh = np.fft.fftshift(morletFT)\n",
    "\n",
    "freqsh = np.fft.fftfreq(int(N))\n",
    "freq = np.fft.fftshift(freqsh)\n",
    "\n",
    "Tools = 'pan,box_zoom,wheel_zoom,reset,save'\n",
    "f = figbok( x_axis_label=\"u\", y_axis_label=\"Amplitude\",tools=Tools)\n",
    "f.line(freq, abs(morletFTsh), legend='Scale '+np.str(a))\n",
    "\n",
    "showbok(f)"
   ]
  },
  {
   "cell_type": "code",
   "execution_count": null,
   "metadata": {},
   "outputs": [],
   "source": []
  }
 ],
 "metadata": {
  "kernelspec": {
   "display_name": "Python 2",
   "language": "python",
   "name": "python2"
  },
  "language_info": {
   "codemirror_mode": {
    "name": "ipython",
    "version": 2
   },
   "file_extension": ".py",
   "mimetype": "text/x-python",
   "name": "python",
   "nbconvert_exporter": "python",
   "pygments_lexer": "ipython2",
   "version": "2.7.14"
  }
 },
 "nbformat": 4,
 "nbformat_minor": 2
}
