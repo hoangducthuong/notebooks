{
 "cells": [
  {
   "cell_type": "markdown",
   "metadata": {},
   "source": [
    "## Inversion method"
   ]
  },
  {
   "cell_type": "code",
   "execution_count": 1,
   "metadata": {},
   "outputs": [
    {
     "name": "stdout",
     "output_type": "stream",
     "text": [
      "% You compiled a main program while inside a procedure.  Returning.\n"
     ]
    }
   ],
   "source": [
    "!inline=1"
   ]
  },
  {
   "cell_type": "code",
   "execution_count": 35,
   "metadata": {},
   "outputs": [
    {
     "name": "stdout",
     "output_type": "stream",
     "text": [
      "\n"
     ]
    }
   ],
   "source": [
    "figfile = '/user/workdir/robitaij/fil2star/Herschel/Ken_Marsh/CygnusX-DR21_l081_cdens_cut_nan.fits'\n",
    "im = readfits(figfile)\n",
    "Gaussian = readfits('/user/workdir/robitaij/fil2star/Herschel/Ken_Marsh/analysis/CygnusX-DR21_l081_gaussian.fits')\n",
    "coherent = readfits('/user/workdir/robitaij/fil2star/Herschel/Ken_Marsh/analysis/CygnusX-DR21_l081_cohe.fits')"
   ]
  },
  {
   "cell_type": "code",
   "execution_count": 20,
   "metadata": {},
   "outputs": [
    {
     "name": "stdout",
     "output_type": "stream",
     "text": [
      "      0.70797453      0.68393637\n"
     ]
    }
   ],
   "source": [
    "N = size(im)\n",
    "na = N[1]\n",
    "nb = N[2]\n",
    "\n",
    "v1=fltarr(na*nb)\n",
    "v2=fltarr(na*nb)\n",
    "v3=fltarr(na*nb)\n",
    "\n",
    "for j=0, nb-1 do begin\n",
    " for i=0, na-1 do begin\n",
    "  v1[j*na+i]=im[i,j]\n",
    "  v2[j*na+i]=Gaussian[i,j]\n",
    "  v3[j*na+i]=coherent[i,j]\n",
    " endfor\n",
    "endfor\n",
    "\n",
    "v1=transpose(v1)\n",
    "v2=transpose(v2)\n",
    "v3=transpose(v3)\n",
    "\n",
    "mA=dblarr(2,na*nb)\n",
    "\n",
    "mb=double(v1)\n",
    "\n",
    "mA[0,*]=v2\n",
    "mA[1,*]=v3\n",
    "\n",
    "cov_mat=transpose(mA)##mA\n",
    "\n",
    "beta_mat=transpose(mA)##mb\n",
    "\n",
    "inversion=invert(cov_mat)##beta_mat\n",
    "\n",
    "inversion=transpose(inversion)\n",
    "\n",
    "print, inversion"
   ]
  },
  {
   "cell_type": "code",
   "execution_count": 26,
   "metadata": {},
   "outputs": [
    {
     "name": "stdout",
     "output_type": "stream",
     "text": [
      "       516.62847\n"
     ]
    }
   ],
   "source": [
    "CS1=correlate(Gaussian,im,/covariance)\n",
    "print,CS1"
   ]
  },
  {
   "cell_type": "code",
   "execution_count": 36,
   "metadata": {},
   "outputs": [
    {
     "name": "stdout",
     "output_type": "stream",
     "text": [
      "      0.71215804\n",
      "      0.68636088\n"
     ]
    }
   ],
   "source": [
    "H1 = (stddev(coherent)^2*correlate(Gaussian,im,/covariance) - correlate(Gaussian,coherent,/covariance)*correlate(coherent,im,/covariance))/$\n",
    "(stddev(Gaussian)^2*stddev(coherent)^2-abs(correlate(Gaussian,coherent,/covariance))^2)\n",
    "print,H1\n",
    "\n",
    "H2 = (stddev(Gaussian)^2*correlate(coherent,im,/covariance) - correlate(coherent,Gaussian,/covariance)*correlate(Gaussian,im,/covariance))/$\n",
    "(stddev(Gaussian)^2*stddev(coherent)^2-abs(correlate(Gaussian,coherent,/covariance))^2)\n",
    "print,H2"
   ]
  },
  {
   "cell_type": "code",
   "execution_count": null,
   "metadata": {},
   "outputs": [],
   "source": []
  }
 ],
 "metadata": {
  "kernelspec": {
   "display_name": "IDL",
   "language": "IDL",
   "name": "idl"
  },
  "language_info": {
   "codemirror_mode": "idl",
   "file_extension": ".pro",
   "mimetype": "text/x-idl",
   "name": "idl"
  }
 },
 "nbformat": 4,
 "nbformat_minor": 2
}
